{
 "cells": [
  {
   "cell_type": "markdown",
   "id": "25a8a220",
   "metadata": {},
   "source": [
    "# Basic Functions"
   ]
  },
  {
   "cell_type": "markdown",
   "id": "a00f8bfe",
   "metadata": {},
   "source": [
    "### Write a function to calculate the factorial of a number."
   ]
  },
  {
   "cell_type": "code",
   "execution_count": 1,
   "id": "e2599b42",
   "metadata": {},
   "outputs": [],
   "source": [
    "def findFactorial(n):\n",
    "    if(n != 0):\n",
    "        f = 1\n",
    "        for e in range(1, n+1):\n",
    "            f = f * e\n",
    "        return f\n",
    "    else:\n",
    "        return 1"
   ]
  },
  {
   "cell_type": "code",
   "execution_count": 2,
   "id": "b4768b06",
   "metadata": {},
   "outputs": [
    {
     "name": "stdout",
     "output_type": "stream",
     "text": [
      "Factorial of 3 is 6\n",
      "Factorial of 5 is 120\n",
      "Factorial of 0 is 1\n"
     ]
    }
   ],
   "source": [
    "n = 3\n",
    "print(f\"Factorial of {n} is {findFactorial(n)}\")\n",
    "n = 5\n",
    "print(f\"Factorial of {n} is {findFactorial(n)}\")\n",
    "n = 0\n",
    "print(f\"Factorial of {n} is {findFactorial(n)}\")"
   ]
  },
  {
   "cell_type": "markdown",
   "id": "019449f8",
   "metadata": {},
   "source": [
    "### Write a function to check if a number is prime."
   ]
  },
  {
   "cell_type": "code",
   "execution_count": 3,
   "id": "3afe8568",
   "metadata": {},
   "outputs": [],
   "source": [
    "import math\n",
    "\n",
    "def isPrime(n):\n",
    "    if(n <= 1):\n",
    "        return False\n",
    "    \n",
    "    for i in range(2, int(math.sqrt(n))+1):\n",
    "        if(n % i == 0):\n",
    "            return False\n",
    "    return True"
   ]
  },
  {
   "cell_type": "code",
   "execution_count": 4,
   "id": "908eb825",
   "metadata": {},
   "outputs": [
    {
     "name": "stdout",
     "output_type": "stream",
     "text": [
      "True\n",
      "True\n",
      "False\n",
      "True\n"
     ]
    }
   ],
   "source": [
    "print(isPrime(29))\n",
    "print(isPrime(2))\n",
    "print(isPrime(21))\n",
    "print(isPrime(17))"
   ]
  },
  {
   "cell_type": "markdown",
   "id": "368b96b4",
   "metadata": {},
   "source": [
    "### Write a function that takes a list of numbers and returns the maximum."
   ]
  },
  {
   "cell_type": "code",
   "execution_count": 5,
   "id": "6270632c",
   "metadata": {},
   "outputs": [
    {
     "name": "stdout",
     "output_type": "stream",
     "text": [
      "32\n"
     ]
    }
   ],
   "source": [
    "def maxList(list):\n",
    "    list.sort()\n",
    "    return list[-1]\n",
    "\n",
    "lst = [12, 1, 3, 24, 32, 15]\n",
    "\n",
    "print(maxList(lst))"
   ]
  },
  {
   "cell_type": "markdown",
   "id": "f2f1adbf",
   "metadata": {},
   "source": [
    "### Write a function to calculate the sum of digits of a number."
   ]
  },
  {
   "cell_type": "code",
   "execution_count": 6,
   "id": "ce4f70f5",
   "metadata": {},
   "outputs": [],
   "source": [
    "def numSum(n):\n",
    "    t = 0\n",
    "    sum = 0\n",
    "    for i in range(len(str(n))):\n",
    "        t = n % 10\n",
    "        sum += t\n",
    "        n = n // 10\n",
    "    return sum"
   ]
  },
  {
   "cell_type": "code",
   "execution_count": 7,
   "id": "ac392394",
   "metadata": {},
   "outputs": [
    {
     "name": "stdout",
     "output_type": "stream",
     "text": [
      "15\n",
      "18\n"
     ]
    }
   ],
   "source": [
    "print(numSum(12345))\n",
    "print(numSum(21564))"
   ]
  },
  {
   "cell_type": "markdown",
   "id": "62781699",
   "metadata": {},
   "source": [
    "### Add digits until get a single digit"
   ]
  },
  {
   "cell_type": "code",
   "execution_count": 8,
   "id": "15d0d500",
   "metadata": {},
   "outputs": [],
   "source": [
    "def sumAlDigit(n):\n",
    "    while n > 9:\n",
    "        sum = 0\n",
    "        while n > 0:\n",
    "            sum += n % 10\n",
    "            n = n // 10\n",
    "        n = sum\n",
    "    return sum"
   ]
  },
  {
   "cell_type": "code",
   "execution_count": 9,
   "id": "b1681bf3",
   "metadata": {},
   "outputs": [
    {
     "name": "stdout",
     "output_type": "stream",
     "text": [
      "9\n"
     ]
    }
   ],
   "source": [
    "print(sumAlDigit(123465456))"
   ]
  },
  {
   "cell_type": "markdown",
   "id": "b8a5ba1e",
   "metadata": {},
   "source": [
    "### Write a function to check whether a string is a palindrome."
   ]
  },
  {
   "cell_type": "code",
   "execution_count": 10,
   "id": "79a3d5d9",
   "metadata": {},
   "outputs": [],
   "source": [
    "def checkPalindrome(s):\n",
    "    t = \"\"\n",
    "    s = s.lower()\n",
    "    for i in s:\n",
    "        t = i + t\n",
    "    if s == t:\n",
    "        return True\n",
    "    else:\n",
    "        return False"
   ]
  },
  {
   "cell_type": "code",
   "execution_count": 11,
   "id": "5749fff1",
   "metadata": {},
   "outputs": [
    {
     "name": "stdout",
     "output_type": "stream",
     "text": [
      "True\n",
      "True\n",
      "True\n",
      "False\n"
     ]
    }
   ],
   "source": [
    "print(checkPalindrome(\"civic\"))\n",
    "print(checkPalindrome(\"radar\"))\n",
    "print(checkPalindrome(\"Madam\"))\n",
    "print(checkPalindrome(\"Hello\"))"
   ]
  },
  {
   "cell_type": "markdown",
   "id": "2bb57213",
   "metadata": {},
   "source": [
    "# Functions with Default & Keyword Arguments"
   ]
  },
  {
   "cell_type": "markdown",
   "id": "55d0bcb4",
   "metadata": {},
   "source": [
    "### Write a function greet(name, msg=\"Hello\") that prints a greeting."
   ]
  },
  {
   "cell_type": "code",
   "execution_count": 12,
   "id": "99a89719",
   "metadata": {},
   "outputs": [],
   "source": [
    "def greet(name, msg=\"Hello\"):\n",
    "    return f\"{msg} {name}\""
   ]
  },
  {
   "cell_type": "code",
   "execution_count": 13,
   "id": "17d67c13",
   "metadata": {},
   "outputs": [
    {
     "name": "stdout",
     "output_type": "stream",
     "text": [
      "Hello Nax\n",
      "Hi Nax\n"
     ]
    }
   ],
   "source": [
    "print(greet(\"Nax\"))\n",
    "print(greet(\"Nax\", \"Hi\"))"
   ]
  },
  {
   "cell_type": "markdown",
   "id": "0134e932",
   "metadata": {},
   "source": [
    "### Write a function that calculates simple interest with default rate = 5%."
   ]
  },
  {
   "cell_type": "code",
   "execution_count": 14,
   "id": "bf540be6",
   "metadata": {},
   "outputs": [],
   "source": [
    "def simpleInterest(principal, time, rate = 5):\n",
    "    return (principal * rate * time) / 100"
   ]
  },
  {
   "cell_type": "code",
   "execution_count": 15,
   "id": "c1f83fff",
   "metadata": {},
   "outputs": [
    {
     "name": "stdout",
     "output_type": "stream",
     "text": [
      "400.0\n",
      "1800.0\n"
     ]
    }
   ],
   "source": [
    "print(simpleInterest(2000, 4))\n",
    "print(simpleInterest(6000, 6))"
   ]
  },
  {
   "cell_type": "markdown",
   "id": "fda19b13",
   "metadata": {},
   "source": [
    "### Write a function to calculate power of a number using default exponent = 2."
   ]
  },
  {
   "cell_type": "code",
   "execution_count": 16,
   "id": "945b698c",
   "metadata": {},
   "outputs": [],
   "source": [
    "def power(n, ex = 2):\n",
    "    return n ** ex"
   ]
  },
  {
   "cell_type": "code",
   "execution_count": 17,
   "id": "3ada29be",
   "metadata": {},
   "outputs": [
    {
     "name": "stdout",
     "output_type": "stream",
     "text": [
      "25\n",
      "1296\n"
     ]
    }
   ],
   "source": [
    "print(power(5))\n",
    "print(power(6, 4))"
   ]
  },
  {
   "cell_type": "markdown",
   "id": "6a8e968c",
   "metadata": {},
   "source": [
    "# Lambda & Map/Filter/Reduce"
   ]
  },
  {
   "cell_type": "markdown",
   "id": "7afd1fdc",
   "metadata": {},
   "source": [
    "## Lambda"
   ]
  },
  {
   "cell_type": "markdown",
   "id": "8fa96397",
   "metadata": {},
   "source": [
    "### A lambda function is a small, anonymous function defined without a name. Think of it as a quick, disposable instruction you write on a sticky note for a simple, one-time task.\n",
    "\n",
    "- Purpose: To create a simple function you only need to use once.\n"
   ]
  },
  {
   "cell_type": "markdown",
   "id": "fdb5c46a",
   "metadata": {},
   "source": [
    "**Lambda arguments: expression**"
   ]
  },
  {
   "cell_type": "markdown",
   "id": "e9907be6",
   "metadata": {},
   "source": [
    "### Use a lambda function to calculate the square of a number."
   ]
  },
  {
   "cell_type": "code",
   "execution_count": 18,
   "id": "e7293db1",
   "metadata": {},
   "outputs": [],
   "source": [
    "square = lambda x : x ** 2"
   ]
  },
  {
   "cell_type": "code",
   "execution_count": 19,
   "id": "877c6225",
   "metadata": {},
   "outputs": [
    {
     "name": "stdout",
     "output_type": "stream",
     "text": [
      "25\n"
     ]
    }
   ],
   "source": [
    "print(square(5))"
   ]
  },
  {
   "cell_type": "markdown",
   "id": "96f9f47c",
   "metadata": {},
   "source": [
    "## Map"
   ]
  },
  {
   "cell_type": "markdown",
   "id": "8abbe7a9",
   "metadata": {},
   "source": [
    "### The map function applies an action to every single item in an iterable (like a list). Imagine a factory assembly line where a worker performs the exact same task (e.g., stamping a logo) on every product that passes by.\n",
    "\n",
    "- Purpose: To transform every element in a list."
   ]
  },
  {
   "cell_type": "markdown",
   "id": "11a39fde",
   "metadata": {},
   "source": [
    "### Use map() with lambda to convert a list of temperatures from Celsius to Fahrenheit."
   ]
  },
  {
   "cell_type": "code",
   "execution_count": 20,
   "id": "76d576ad",
   "metadata": {},
   "outputs": [],
   "source": [
    "toFahrenhet = lambda x : (x * 9/5) + 32"
   ]
  },
  {
   "cell_type": "code",
   "execution_count": 21,
   "id": "fe269259",
   "metadata": {},
   "outputs": [],
   "source": [
    "celsius_temp = [21, 25, 15, 30, 40]"
   ]
  },
  {
   "cell_type": "code",
   "execution_count": 22,
   "id": "d38a43e2",
   "metadata": {},
   "outputs": [
    {
     "name": "stdout",
     "output_type": "stream",
     "text": [
      "[69.8, 77.0, 59.0, 86.0, 104.0]\n",
      "[69.8, 77.0, 59.0, 86.0, 104.0]\n"
     ]
    }
   ],
   "source": [
    "print(list(map(toFahrenhet, celsius_temp)))\n",
    "# OR\n",
    "print(list(map(lambda x : (x * 9/5) + 32, celsius_temp)))"
   ]
  },
  {
   "cell_type": "markdown",
   "id": "0f9b001d",
   "metadata": {},
   "source": [
    "## Filter"
   ]
  },
  {
   "cell_type": "markdown",
   "id": "1886d6e4",
   "metadata": {},
   "source": [
    "### The filter function tests every item in an iterable and keeps only the ones that pass the test. It's like a bouncer at a club who checks every person's ID and only allows those who meet a specific condition (like being over 21) to enter.\n",
    "\n",
    "- Purpose: To select a subset of elements from a list."
   ]
  },
  {
   "cell_type": "markdown",
   "id": "d7180dbc",
   "metadata": {},
   "source": [
    "### Use filter() with lambda to find all even numbers from a list."
   ]
  },
  {
   "cell_type": "code",
   "execution_count": 23,
   "id": "613e97f3",
   "metadata": {},
   "outputs": [],
   "source": [
    "isEven = lambda n : n % 2 == 0"
   ]
  },
  {
   "cell_type": "code",
   "execution_count": 24,
   "id": "5452e241",
   "metadata": {},
   "outputs": [],
   "source": [
    "numbers = [1, 2, 3, 4, 5, 6, 7, 8, 9, 10]"
   ]
  },
  {
   "cell_type": "code",
   "execution_count": 25,
   "id": "da4a6e5b",
   "metadata": {},
   "outputs": [
    {
     "name": "stdout",
     "output_type": "stream",
     "text": [
      "[2, 4, 6, 8, 10]\n"
     ]
    }
   ],
   "source": [
    "print(list(filter(isEven, numbers)))"
   ]
  },
  {
   "cell_type": "markdown",
   "id": "6c0c4d49",
   "metadata": {},
   "source": [
    "## Reduce"
   ]
  },
  {
   "cell_type": "markdown",
   "id": "9f4c3edf",
   "metadata": {},
   "source": [
    "### The reduce function takes an iterable and combines all its elements into a single final value. Think of a snowball rolling down a hill; it starts small and picks up more snow with each turn (the next item in the list), ending as one giant ball.\n",
    "\n",
    "- Purpose: To combine all elements of a list into one result."
   ]
  },
  {
   "cell_type": "markdown",
   "id": "3be11964",
   "metadata": {},
   "source": [
    "### Use reduce() with lambda to find the product of all elements in a list."
   ]
  },
  {
   "cell_type": "code",
   "execution_count": 26,
   "id": "40618599",
   "metadata": {},
   "outputs": [],
   "source": [
    "from functools import reduce\n",
    "\n",
    "product = lambda accumulator, item : accumulator * item"
   ]
  },
  {
   "cell_type": "code",
   "execution_count": 27,
   "id": "d925256c",
   "metadata": {},
   "outputs": [],
   "source": [
    "numbers_to_multiply = [1, 2, 3, 4, 5]"
   ]
  },
  {
   "cell_type": "code",
   "execution_count": 28,
   "id": "8abb5d51",
   "metadata": {},
   "outputs": [
    {
     "name": "stdout",
     "output_type": "stream",
     "text": [
      "120\n"
     ]
    }
   ],
   "source": [
    "print(reduce(product, numbers_to_multiply))"
   ]
  },
  {
   "cell_type": "markdown",
   "id": "61fed8bf",
   "metadata": {},
   "source": [
    "# Recursion"
   ]
  },
  {
   "cell_type": "markdown",
   "id": "5c9a53b5",
   "metadata": {},
   "source": [
    "### Write a recursive function to generate the Fibonacci sequence."
   ]
  },
  {
   "cell_type": "code",
   "execution_count": 29,
   "id": "6a23e295",
   "metadata": {},
   "outputs": [],
   "source": [
    "def fibonacci(n):\n",
    "    if n <= 1:\n",
    "        return n\n",
    "    else:\n",
    "        return fibonacci(n - 1) + fibonacci(n - 2)"
   ]
  },
  {
   "cell_type": "code",
   "execution_count": 30,
   "id": "05bd9d0f",
   "metadata": {},
   "outputs": [
    {
     "name": "stdout",
     "output_type": "stream",
     "text": [
      "0  1  1  2  3  5  8  13  21  34  \n",
      "[0, 1, 1, 2, 3, 5, 8, 13, 21, 34]\n"
     ]
    }
   ],
   "source": [
    "for i in range(10):\n",
    "    print(fibonacci(i), end=\"  \")\n",
    "# OR\n",
    "print()\n",
    "print([fibonacci(i) for i in range(10)])"
   ]
  },
  {
   "cell_type": "markdown",
   "id": "91076852",
   "metadata": {},
   "source": [
    "### Write a recursive function to calculate the sum of first n natural numbers."
   ]
  },
  {
   "cell_type": "code",
   "execution_count": 31,
   "id": "90cbeb32",
   "metadata": {},
   "outputs": [],
   "source": [
    "def naturalSum(n):\n",
    "    if(n == 1):\n",
    "        return 1\n",
    "    else:\n",
    "        return n + naturalSum(n-1)"
   ]
  },
  {
   "cell_type": "code",
   "execution_count": 32,
   "id": "c01d9abd",
   "metadata": {},
   "outputs": [
    {
     "name": "stdout",
     "output_type": "stream",
     "text": [
      "15\n"
     ]
    }
   ],
   "source": [
    "print(naturalSum(5))"
   ]
  },
  {
   "cell_type": "markdown",
   "id": "3cbfff26",
   "metadata": {},
   "source": [
    "### Write a recursive function to find the GCD (Greatest Common Divisor) of two numbers."
   ]
  },
  {
   "cell_type": "code",
   "execution_count": 33,
   "id": "664494a4",
   "metadata": {},
   "outputs": [],
   "source": [
    "def gcd(a, b):\n",
    "    if(b == 0):\n",
    "        return a\n",
    "    else:\n",
    "        return gcd(b, a % b)"
   ]
  },
  {
   "cell_type": "code",
   "execution_count": 34,
   "id": "a3cda4f9",
   "metadata": {},
   "outputs": [
    {
     "name": "stdout",
     "output_type": "stream",
     "text": [
      "6\n"
     ]
    }
   ],
   "source": [
    "print(gcd(54, 24))"
   ]
  },
  {
   "cell_type": "markdown",
   "id": "78523e32",
   "metadata": {},
   "source": [
    "# Problem Solving with Functions"
   ]
  },
  {
   "cell_type": "markdown",
   "id": "805ab855",
   "metadata": {},
   "source": [
    "### Write a function that returns the nth prime number."
   ]
  },
  {
   "cell_type": "code",
   "execution_count": 35,
   "id": "a2e35f93",
   "metadata": {},
   "outputs": [],
   "source": [
    "import math\n",
    "\n",
    "def isPrime(n):\n",
    "    if(n <= 1):\n",
    "        return False\n",
    "    \n",
    "    for i in range(2, int(math.sqrt(n))+1):\n",
    "        if(n % i == 0):\n",
    "            return False\n",
    "    return True"
   ]
  },
  {
   "cell_type": "code",
   "execution_count": 36,
   "id": "96823363",
   "metadata": {},
   "outputs": [
    {
     "name": "stdout",
     "output_type": "stream",
     "text": [
      "True\n",
      "True\n",
      "False\n",
      "True\n"
     ]
    }
   ],
   "source": [
    "print(isPrime(29))\n",
    "print(isPrime(2))\n",
    "print(isPrime(21))\n",
    "print(isPrime(17))"
   ]
  },
  {
   "cell_type": "markdown",
   "id": "226ef6e2",
   "metadata": {},
   "source": [
    "### Write a function to count the frequency of each character in a string (return dictionary)."
   ]
  },
  {
   "cell_type": "code",
   "execution_count": 37,
   "id": "36bab385",
   "metadata": {},
   "outputs": [
    {
     "name": "stdout",
     "output_type": "stream",
     "text": [
      "{'a': 2, 'c': 3, 'e': 1}\n",
      "1\n",
      "dict_keys(['a', 'c', 'e'])\n"
     ]
    }
   ],
   "source": [
    "freqDict = {\n",
    "    'a' : 2,\n",
    "    'c' : 3,\n",
    "    'e' : 1\n",
    "}\n",
    "print(freqDict)\n",
    "print(freqDict.get('e'))\n",
    "print(freqDict.keys())"
   ]
  },
  {
   "cell_type": "code",
   "execution_count": 38,
   "id": "5119d77c",
   "metadata": {},
   "outputs": [],
   "source": [
    "def charFrequeny(string):\n",
    "    freqDict = {}\n",
    "    for i in string:\n",
    "        if freqDict.get(i) == None:\n",
    "            freqDict[i] = 1\n",
    "        elif freqDict.get(i):\n",
    "            freqDict[i] = freqDict.get(i) + 1\n",
    "    return freqDict"
   ]
  },
  {
   "cell_type": "code",
   "execution_count": 39,
   "id": "d9e6a77e",
   "metadata": {},
   "outputs": [
    {
     "name": "stdout",
     "output_type": "stream",
     "text": [
      "{'H': 1, 'e': 2, 'l': 2, 'o': 4, ' ': 3, 'h': 1, 'w': 1, 'a': 1, 'r': 1, 'y': 1, 'u': 1}\n"
     ]
    }
   ],
   "source": [
    "print(charFrequeny(\"Helloo how are you\"))"
   ]
  },
  {
   "cell_type": "markdown",
   "id": "feb8dac5",
   "metadata": {},
   "source": [
    "### Write a function to check if a number is an Armstrong number."
   ]
  },
  {
   "cell_type": "code",
   "execution_count": 40,
   "id": "052965c5",
   "metadata": {},
   "outputs": [],
   "source": [
    "def checkArmstrongNo(n):\n",
    "    temp = n\n",
    "    l = len(str(n))\n",
    "    total = 0\n",
    "    while(n != 0):\n",
    "        f = n % 10\n",
    "        total += f ** l\n",
    "        n = n // 10\n",
    "    if(total == temp):\n",
    "        return True\n",
    "    else:\n",
    "        return False"
   ]
  },
  {
   "cell_type": "code",
   "execution_count": 41,
   "id": "40ad34ab",
   "metadata": {},
   "outputs": [
    {
     "name": "stdout",
     "output_type": "stream",
     "text": [
      "True\n",
      "True\n",
      "False\n"
     ]
    }
   ],
   "source": [
    "print(checkArmstrongNo(153))\n",
    "print(checkArmstrongNo(9474))\n",
    "print(checkArmstrongNo(123))"
   ]
  },
  {
   "cell_type": "markdown",
   "id": "86f8bf17",
   "metadata": {},
   "source": [
    "### Write a function that takes a list of numbers and returns a new list with only unique elements."
   ]
  },
  {
   "cell_type": "code",
   "execution_count": 54,
   "id": "e751e286",
   "metadata": {},
   "outputs": [],
   "source": [
    "def uniqueList(lst):\n",
    "    new_lst = []\n",
    "    for i in lst:\n",
    "        if i not in new_lst:\n",
    "            new_lst.append(i)\n",
    "    return new_lst"
   ]
  },
  {
   "cell_type": "code",
   "execution_count": 56,
   "id": "6a5c9def",
   "metadata": {},
   "outputs": [
    {
     "name": "stdout",
     "output_type": "stream",
     "text": [
      "[1, 2, 3, 5]\n",
      "{1, 2, 3, 5}\n"
     ]
    }
   ],
   "source": [
    "ls = [1, 2, 3, 3, 2, 5]\n",
    "print(uniqueList(ls))\n",
    "# OR\n",
    "print(set(ls))"
   ]
  },
  {
   "cell_type": "markdown",
   "id": "3b16ac13",
   "metadata": {},
   "source": [
    "### Write a function that takes two lists and returns their intersection."
   ]
  },
  {
   "cell_type": "code",
   "execution_count": 64,
   "id": "719129e1",
   "metadata": {},
   "outputs": [],
   "source": [
    "def listIntersect1(lst1, lst2):\n",
    "    intersect = []\n",
    "    for i in lst1:\n",
    "        if i in lst2:\n",
    "            intersect.append(i)\n",
    "    return intersect\n",
    "\n",
    "def listIntersect2(lst1, lst2):\n",
    "    return list(set(lst1) & set(lst2))"
   ]
  },
  {
   "cell_type": "code",
   "execution_count": 65,
   "id": "3c2bf018",
   "metadata": {},
   "outputs": [
    {
     "name": "stdout",
     "output_type": "stream",
     "text": [
      "[2, 3, 4, 5]\n"
     ]
    }
   ],
   "source": [
    "ls1 = [1, 4, 3, 7, 2, 5]\n",
    "ls2 = [8, 2, 4, 3, 5, 6]\n",
    "print(listIntersect2(ls1, ls2))"
   ]
  }
 ],
 "metadata": {
  "kernelspec": {
   "display_name": "Python 3",
   "language": "python",
   "name": "python3"
  },
  "language_info": {
   "codemirror_mode": {
    "name": "ipython",
    "version": 3
   },
   "file_extension": ".py",
   "mimetype": "text/x-python",
   "name": "python",
   "nbconvert_exporter": "python",
   "pygments_lexer": "ipython3",
   "version": "3.13.6"
  }
 },
 "nbformat": 4,
 "nbformat_minor": 5
}
