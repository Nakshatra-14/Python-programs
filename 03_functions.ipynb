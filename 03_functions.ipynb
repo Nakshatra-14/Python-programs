{
 "cells": [
  {
   "cell_type": "markdown",
   "id": "25a8a220",
   "metadata": {},
   "source": [
    "# Basic Functions"
   ]
  },
  {
   "cell_type": "markdown",
   "id": "a00f8bfe",
   "metadata": {},
   "source": [
    "### Write a function to calculate the factorial of a number."
   ]
  },
  {
   "cell_type": "markdown",
   "id": "019449f8",
   "metadata": {},
   "source": [
    "### Write a function to check if a number is prime."
   ]
  },
  {
   "cell_type": "markdown",
   "id": "368b96b4",
   "metadata": {},
   "source": [
    "### Write a function that takes a list of numbers and returns the maximum."
   ]
  },
  {
   "cell_type": "markdown",
   "id": "f2f1adbf",
   "metadata": {},
   "source": [
    "### Write a function to calculate the sum of digits of a number."
   ]
  },
  {
   "cell_type": "markdown",
   "id": "b8a5ba1e",
   "metadata": {},
   "source": [
    "### Write a function to check whether a string is a palindrome."
   ]
  },
  {
   "cell_type": "markdown",
   "id": "2bb57213",
   "metadata": {},
   "source": [
    "# Functions with Default & Keyword Arguments"
   ]
  },
  {
   "cell_type": "markdown",
   "id": "55d0bcb4",
   "metadata": {},
   "source": [
    "### Write a function greet(name, msg=\"Hello\") that prints a greeting."
   ]
  },
  {
   "cell_type": "markdown",
   "id": "0134e932",
   "metadata": {},
   "source": [
    "### Write a function that calculates simple interest with default rate = 5%."
   ]
  },
  {
   "cell_type": "markdown",
   "id": "fda19b13",
   "metadata": {},
   "source": [
    "### Write a function to calculate power of a number using default exponent = 2."
   ]
  },
  {
   "cell_type": "markdown",
   "id": "6a8e968c",
   "metadata": {},
   "source": [
    "# Lambda & Map/Filter/Reduce"
   ]
  },
  {
   "cell_type": "markdown",
   "id": "e9907be6",
   "metadata": {},
   "source": [
    "### Use a lambda function to calculate the square of a number."
   ]
  },
  {
   "cell_type": "markdown",
   "id": "11a39fde",
   "metadata": {},
   "source": [
    "### Use map() with lambda to convert a list of temperatures from Celsius to Fahrenheit."
   ]
  },
  {
   "cell_type": "markdown",
   "id": "d7180dbc",
   "metadata": {},
   "source": [
    "### Use filter() with lambda to find all even numbers from a list."
   ]
  },
  {
   "cell_type": "markdown",
   "id": "3be11964",
   "metadata": {},
   "source": [
    "### Use reduce() with lambda to find the product of all elements in a list."
   ]
  },
  {
   "cell_type": "markdown",
   "id": "61fed8bf",
   "metadata": {},
   "source": [
    "# Recursion"
   ]
  },
  {
   "cell_type": "markdown",
   "id": "5c9a53b5",
   "metadata": {},
   "source": [
    "### Write a recursive function to generate the Fibonacci sequence."
   ]
  },
  {
   "cell_type": "markdown",
   "id": "91076852",
   "metadata": {},
   "source": [
    "### Write a recursive function to calculate the sum of first n natural numbers."
   ]
  },
  {
   "cell_type": "markdown",
   "id": "3cbfff26",
   "metadata": {},
   "source": [
    "### Write a recursive function to find the GCD (Greatest Common Divisor) of two numbers."
   ]
  },
  {
   "cell_type": "markdown",
   "id": "78523e32",
   "metadata": {},
   "source": [
    "# Problem Solving with Functions"
   ]
  },
  {
   "cell_type": "markdown",
   "id": "805ab855",
   "metadata": {},
   "source": [
    "### Write a function that returns the nth prime number."
   ]
  },
  {
   "cell_type": "markdown",
   "id": "226ef6e2",
   "metadata": {},
   "source": [
    "### Write a function to count the frequency of each character in a string (return dictionary)."
   ]
  },
  {
   "cell_type": "markdown",
   "id": "feb8dac5",
   "metadata": {},
   "source": [
    "### Write a function to check if a number is an Armstrong number."
   ]
  },
  {
   "cell_type": "markdown",
   "id": "86f8bf17",
   "metadata": {},
   "source": [
    "### Write a function that takes a list of numbers and returns a new list with only unique elements."
   ]
  },
  {
   "cell_type": "markdown",
   "id": "3b16ac13",
   "metadata": {},
   "source": [
    "### Write a function that takes two lists and returns their intersection."
   ]
  }
 ],
 "metadata": {
  "language_info": {
   "name": "python"
  }
 },
 "nbformat": 4,
 "nbformat_minor": 5
}
