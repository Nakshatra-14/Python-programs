{
 "cells": [
  {
   "cell_type": "markdown",
   "id": "25a8a220",
   "metadata": {},
   "source": [
    "# Basic Functions"
   ]
  },
  {
   "cell_type": "markdown",
   "id": "a00f8bfe",
   "metadata": {},
   "source": [
    "### Write a function to calculate the factorial of a number."
   ]
  },
  {
   "cell_type": "code",
   "execution_count": 1,
   "id": "e2599b42",
   "metadata": {},
   "outputs": [],
   "source": [
    "def findFactorial(n):\n",
    "    if(n != 0):\n",
    "        f = 1\n",
    "        for e in range(1, n+1):\n",
    "            f = f * e\n",
    "        return f\n",
    "    else:\n",
    "        return 1"
   ]
  },
  {
   "cell_type": "code",
   "execution_count": 2,
   "id": "b4768b06",
   "metadata": {},
   "outputs": [
    {
     "name": "stdout",
     "output_type": "stream",
     "text": [
      "Factorial of 3 is 6\n",
      "Factorial of 5 is 120\n",
      "Factorial of 0 is 1\n"
     ]
    }
   ],
   "source": [
    "n = 3\n",
    "print(f\"Factorial of {n} is {findFactorial(n)}\")\n",
    "n = 5\n",
    "print(f\"Factorial of {n} is {findFactorial(n)}\")\n",
    "n = 0\n",
    "print(f\"Factorial of {n} is {findFactorial(n)}\")"
   ]
  },
  {
   "cell_type": "markdown",
   "id": "019449f8",
   "metadata": {},
   "source": [
    "### Write a function to check if a number is prime."
   ]
  },
  {
   "cell_type": "code",
   "execution_count": 3,
   "id": "3afe8568",
   "metadata": {},
   "outputs": [],
   "source": [
    "import math\n",
    "\n",
    "def isPrime(n):\n",
    "    if(n <= 1):\n",
    "        return False\n",
    "    \n",
    "    for i in range(2, int(math.sqrt(n))+1):\n",
    "        if(n % i == 0):\n",
    "            return False\n",
    "    return True"
   ]
  },
  {
   "cell_type": "code",
   "execution_count": 4,
   "id": "908eb825",
   "metadata": {},
   "outputs": [
    {
     "name": "stdout",
     "output_type": "stream",
     "text": [
      "True\n",
      "True\n",
      "False\n",
      "True\n"
     ]
    }
   ],
   "source": [
    "print(isPrime(29))\n",
    "print(isPrime(2))\n",
    "print(isPrime(21))\n",
    "print(isPrime(17))"
   ]
  },
  {
   "cell_type": "markdown",
   "id": "368b96b4",
   "metadata": {},
   "source": [
    "### Write a function that takes a list of numbers and returns the maximum."
   ]
  },
  {
   "cell_type": "code",
   "execution_count": 6,
   "id": "6270632c",
   "metadata": {},
   "outputs": [
    {
     "name": "stdout",
     "output_type": "stream",
     "text": [
      "32\n"
     ]
    }
   ],
   "source": [
    "def maxList(list):\n",
    "    list.sort()\n",
    "    return list[-1]\n",
    "\n",
    "lst = [12, 1, 3, 24, 32, 15]\n",
    "\n",
    "print(maxList(lst))"
   ]
  },
  {
   "cell_type": "markdown",
   "id": "f2f1adbf",
   "metadata": {},
   "source": [
    "### Write a function to calculate the sum of digits of a number."
   ]
  },
  {
   "cell_type": "code",
   "execution_count": 7,
   "id": "ce4f70f5",
   "metadata": {},
   "outputs": [],
   "source": [
    "def numSum(n):\n",
    "    t = 0\n",
    "    sum = 0\n",
    "    for i in range(len(str(n))):\n",
    "        t = n % 10\n",
    "        sum += t\n",
    "        n = n // 10\n",
    "    return sum"
   ]
  },
  {
   "cell_type": "code",
   "execution_count": 18,
   "id": "ac392394",
   "metadata": {},
   "outputs": [
    {
     "name": "stdout",
     "output_type": "stream",
     "text": [
      "15\n",
      "18\n"
     ]
    }
   ],
   "source": [
    "print(numSum(12345))\n",
    "print(numSum(21564))"
   ]
  },
  {
   "cell_type": "markdown",
   "id": "62781699",
   "metadata": {},
   "source": [
    "### Add digits until get a single digit"
   ]
  },
  {
   "cell_type": "code",
   "execution_count": 21,
   "id": "15d0d500",
   "metadata": {},
   "outputs": [],
   "source": [
    "def sumAlDigit(n):\n",
    "    while n > 9:\n",
    "        sum = 0\n",
    "        while n > 0:\n",
    "            sum += n % 10\n",
    "            n = n // 10\n",
    "        n = sum\n",
    "    return sum"
   ]
  },
  {
   "cell_type": "code",
   "execution_count": 24,
   "id": "b1681bf3",
   "metadata": {},
   "outputs": [
    {
     "name": "stdout",
     "output_type": "stream",
     "text": [
      "9\n"
     ]
    }
   ],
   "source": [
    "print(sumAlDigit(123465456))"
   ]
  },
  {
   "cell_type": "markdown",
   "id": "b8a5ba1e",
   "metadata": {},
   "source": [
    "### Write a function to check whether a string is a palindrome."
   ]
  },
  {
   "cell_type": "code",
   "execution_count": 25,
   "id": "79a3d5d9",
   "metadata": {},
   "outputs": [],
   "source": [
    "def checkPalindrome(s):\n",
    "    t = \"\"\n",
    "    s = s.lower()\n",
    "    for i in s:\n",
    "        t = i + t\n",
    "    if s == t:\n",
    "        return True\n",
    "    else:\n",
    "        return False"
   ]
  },
  {
   "cell_type": "code",
   "execution_count": 26,
   "id": "5749fff1",
   "metadata": {},
   "outputs": [
    {
     "name": "stdout",
     "output_type": "stream",
     "text": [
      "True\n",
      "True\n",
      "True\n",
      "False\n"
     ]
    }
   ],
   "source": [
    "print(checkPalindrome(\"civic\"))\n",
    "print(checkPalindrome(\"radar\"))\n",
    "print(checkPalindrome(\"Madam\"))\n",
    "print(checkPalindrome(\"Hello\"))"
   ]
  },
  {
   "cell_type": "markdown",
   "id": "2bb57213",
   "metadata": {},
   "source": [
    "# Functions with Default & Keyword Arguments"
   ]
  },
  {
   "cell_type": "markdown",
   "id": "55d0bcb4",
   "metadata": {},
   "source": [
    "### Write a function greet(name, msg=\"Hello\") that prints a greeting."
   ]
  },
  {
   "cell_type": "markdown",
   "id": "0134e932",
   "metadata": {},
   "source": [
    "### Write a function that calculates simple interest with default rate = 5%."
   ]
  },
  {
   "cell_type": "markdown",
   "id": "fda19b13",
   "metadata": {},
   "source": [
    "### Write a function to calculate power of a number using default exponent = 2."
   ]
  },
  {
   "cell_type": "markdown",
   "id": "6a8e968c",
   "metadata": {},
   "source": [
    "# Lambda & Map/Filter/Reduce"
   ]
  },
  {
   "cell_type": "markdown",
   "id": "e9907be6",
   "metadata": {},
   "source": [
    "### Use a lambda function to calculate the square of a number."
   ]
  },
  {
   "cell_type": "markdown",
   "id": "11a39fde",
   "metadata": {},
   "source": [
    "### Use map() with lambda to convert a list of temperatures from Celsius to Fahrenheit."
   ]
  },
  {
   "cell_type": "markdown",
   "id": "d7180dbc",
   "metadata": {},
   "source": [
    "### Use filter() with lambda to find all even numbers from a list."
   ]
  },
  {
   "cell_type": "markdown",
   "id": "3be11964",
   "metadata": {},
   "source": [
    "### Use reduce() with lambda to find the product of all elements in a list."
   ]
  },
  {
   "cell_type": "markdown",
   "id": "61fed8bf",
   "metadata": {},
   "source": [
    "# Recursion"
   ]
  },
  {
   "cell_type": "markdown",
   "id": "5c9a53b5",
   "metadata": {},
   "source": [
    "### Write a recursive function to generate the Fibonacci sequence."
   ]
  },
  {
   "cell_type": "markdown",
   "id": "91076852",
   "metadata": {},
   "source": [
    "### Write a recursive function to calculate the sum of first n natural numbers."
   ]
  },
  {
   "cell_type": "markdown",
   "id": "3cbfff26",
   "metadata": {},
   "source": [
    "### Write a recursive function to find the GCD (Greatest Common Divisor) of two numbers."
   ]
  },
  {
   "cell_type": "markdown",
   "id": "78523e32",
   "metadata": {},
   "source": [
    "# Problem Solving with Functions"
   ]
  },
  {
   "cell_type": "markdown",
   "id": "805ab855",
   "metadata": {},
   "source": [
    "### Write a function that returns the nth prime number."
   ]
  },
  {
   "cell_type": "markdown",
   "id": "226ef6e2",
   "metadata": {},
   "source": [
    "### Write a function to count the frequency of each character in a string (return dictionary)."
   ]
  },
  {
   "cell_type": "markdown",
   "id": "feb8dac5",
   "metadata": {},
   "source": [
    "### Write a function to check if a number is an Armstrong number."
   ]
  },
  {
   "cell_type": "markdown",
   "id": "86f8bf17",
   "metadata": {},
   "source": [
    "### Write a function that takes a list of numbers and returns a new list with only unique elements."
   ]
  },
  {
   "cell_type": "markdown",
   "id": "3b16ac13",
   "metadata": {},
   "source": [
    "### Write a function that takes two lists and returns their intersection."
   ]
  }
 ],
 "metadata": {
  "kernelspec": {
   "display_name": "Python 3",
   "language": "python",
   "name": "python3"
  },
  "language_info": {
   "codemirror_mode": {
    "name": "ipython",
    "version": 3
   },
   "file_extension": ".py",
   "mimetype": "text/x-python",
   "name": "python",
   "nbconvert_exporter": "python",
   "pygments_lexer": "ipython3",
   "version": "3.13.6"
  }
 },
 "nbformat": 4,
 "nbformat_minor": 5
}
