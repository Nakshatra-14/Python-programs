{
 "cells": [
  {
   "cell_type": "markdown",
   "id": "dc187d0e",
   "metadata": {},
   "source": [
    "### 1. Write a program to take two numbers as input and print their sum, difference, product, and division."
   ]
  },
  {
   "cell_type": "code",
   "execution_count": 4,
   "id": "0f75454a",
   "metadata": {},
   "outputs": [
    {
     "name": "stdout",
     "output_type": "stream",
     "text": [
      "Sum: 15\n",
      "Difference: 9\n",
      "Product: 36\n",
      "Division: 4.0\n"
     ]
    }
   ],
   "source": [
    "# a = int(input(\"Enter a: \"))\n",
    "# b = int(input(\"Enter b: \"))\n",
    "a = 12\n",
    "b = 3\n",
    "print(\"Sum:\", a+b)\n",
    "print(\"Difference:\", a-b)\n",
    "print(\"Product:\", a*b)\n",
    "print(\"Division:\", a/b)"
   ]
  },
  {
   "cell_type": "markdown",
   "id": "31abb030",
   "metadata": {},
   "source": [
    "### 2. Swap two variables without using a third variable."
   ]
  },
  {
   "cell_type": "code",
   "execution_count": 5,
   "id": "8ff6dbb6",
   "metadata": {},
   "outputs": [
    {
     "name": "stdout",
     "output_type": "stream",
     "text": [
      "Before Swap:\n",
      "A: 10\n",
      "B: 20\n",
      "After Swap:\n",
      "A: 20\n",
      "B: 10\n"
     ]
    }
   ],
   "source": [
    "a = 10\n",
    "b = 20\n",
    "print(\"Before Swap:\")\n",
    "print(\"A:\", a)\n",
    "print(\"B:\", b)\n",
    "a = a + b\n",
    "b = a - b\n",
    "a = a - b\n",
    "print(\"After Swap:\")\n",
    "print(\"A:\", a)\n",
    "print(\"B:\", b)"
   ]
  },
  {
   "cell_type": "markdown",
   "id": "d745bcdb",
   "metadata": {},
   "source": [
    "### 3. Convert Celsius to Fahrenheit and Fahrenheit to Celsius."
   ]
  },
  {
   "cell_type": "code",
   "execution_count": 6,
   "id": "75570f5e",
   "metadata": {},
   "outputs": [
    {
     "name": "stdout",
     "output_type": "stream",
     "text": [
      "20 C to  68.0 F\n",
      "68 F to  20.0 C\n"
     ]
    }
   ],
   "source": [
    "c = 20\n",
    "f = (c * 9/5) + 32\n",
    "print(c, \"C to \", f, \"F\")\n",
    "f = 68\n",
    "c = (f - 32) * 5/9\n",
    "print(f, \"F to \", c, \"C\")"
   ]
  },
  {
   "cell_type": "markdown",
   "id": "18126f5c",
   "metadata": {},
   "source": [
    "### 4. Find the area and perimeter of a circle, given its radius."
   ]
  },
  {
   "cell_type": "code",
   "execution_count": 7,
   "id": "68a242db",
   "metadata": {},
   "outputs": [
    {
     "name": "stdout",
     "output_type": "stream",
     "text": [
      "Area: 1256.6370614359173\n"
     ]
    }
   ],
   "source": [
    "import math\n",
    "r = 20\n",
    "area = math.pi * (r ** 2)\n",
    "print(\"Area:\", area)"
   ]
  },
  {
   "cell_type": "markdown",
   "id": "a419d57c",
   "metadata": {},
   "source": [
    "### 5. Take a user’s name and age as input and print a greeting message:"
   ]
  },
  {
   "cell_type": "code",
   "execution_count": 8,
   "id": "a8d2bb88",
   "metadata": {},
   "outputs": [
    {
     "name": "stdout",
     "output_type": "stream",
     "text": [
      "Helloo nax you are 22 year old\n"
     ]
    }
   ],
   "source": [
    "username = str(input(\"Enter name:\"))\n",
    "age = int(input(\"Enter age:\"))\n",
    "\n",
    "print(\"Helloo \" + username + \" you are\", age, \"year old\")"
   ]
  },
  {
   "cell_type": "markdown",
   "id": "b956911b",
   "metadata": {},
   "source": [
    "### 7. Take 3 numbers and print the largest one."
   ]
  },
  {
   "cell_type": "code",
   "execution_count": 9,
   "id": "abb15098",
   "metadata": {},
   "outputs": [
    {
     "name": "stdout",
     "output_type": "stream",
     "text": [
      "20\n"
     ]
    }
   ],
   "source": [
    "# a = int(input(\"Enter a:\"))\n",
    "# b = int(input(\"Enter b:\"))\n",
    "# c = int(input(\"Enter c:\"))\n",
    "a = 10\n",
    "b = 20\n",
    "c = 15\n",
    "largestNum = max(a, b, c)\n",
    "print(largestNum)"
   ]
  },
  {
   "cell_type": "markdown",
   "id": "349da4f7",
   "metadata": {},
   "source": [
    "### 8. Calculate simple interest and compound interest for given principal, rate, and time."
   ]
  },
  {
   "cell_type": "code",
   "execution_count": 10,
   "id": "6617bfd3",
   "metadata": {},
   "outputs": [
    {
     "name": "stdout",
     "output_type": "stream",
     "text": [
      "3000.0\n"
     ]
    }
   ],
   "source": [
    "p = 15000\n",
    "r = 10\n",
    "t = 2\n",
    "\n",
    "def simpleInterest(p, r, t):\n",
    "    return (p * r * t) / 100\n",
    "\n",
    "print(simpleInterest(p, r, t))"
   ]
  },
  {
   "cell_type": "markdown",
   "id": "d84e4cd3",
   "metadata": {},
   "source": [
    "### 9. Convert seconds into hours, minutes, and seconds format."
   ]
  },
  {
   "cell_type": "code",
   "execution_count": 11,
   "id": "22e0315a",
   "metadata": {},
   "outputs": [
    {
     "name": "stdout",
     "output_type": "stream",
     "text": [
      "1:16:40\n"
     ]
    }
   ],
   "source": [
    "def secInHMS(sec):\n",
    "    hr = sec // 3600  # Use integer division (//) to get the whole number of hours\n",
    "    sec_remaining = sec % 3600  # Use the modulus operator (%) to get the remaining seconds\n",
    "    \n",
    "    min = sec_remaining // 60  # Calculate the whole number of minutes from the remainder\n",
    "    sec_final = sec_remaining % 60  # Get the final remaining seconds\n",
    "    \n",
    "    print(f\"{hr}:{min}:{sec_final}\")\n",
    "\n",
    "secInHMS(4600)\n"
   ]
  },
  {
   "cell_type": "markdown",
   "id": "c2126d9b",
   "metadata": {},
   "source": [
    "### 10. Write a program to calculate your monthly expenses — take inputs for food, rent, transport, and entertainment, then print total and average. "
   ]
  },
  {
   "cell_type": "code",
   "execution_count": 12,
   "id": "45a85408",
   "metadata": {},
   "outputs": [
    {
     "name": "stdout",
     "output_type": "stream",
     "text": [
      "Total: 11500\n",
      "Avaerage: 2875.0\n"
     ]
    }
   ],
   "source": [
    "food = 2000\n",
    "rent = 8000\n",
    "trans = 1000\n",
    "entertainment = 500\n",
    "\n",
    "print(f\"Total: {food+rent+trans+entertainment}\")\n",
    "print(f\"Avaerage: {(food+rent+trans+entertainment)/4}\")"
   ]
  }
 ],
 "metadata": {
  "kernelspec": {
   "display_name": "Python 3",
   "language": "python",
   "name": "python3"
  },
  "language_info": {
   "codemirror_mode": {
    "name": "ipython",
    "version": 3
   },
   "file_extension": ".py",
   "mimetype": "text/x-python",
   "name": "python",
   "nbconvert_exporter": "python",
   "pygments_lexer": "ipython3",
   "version": "3.13.6"
  }
 },
 "nbformat": 4,
 "nbformat_minor": 5
}
