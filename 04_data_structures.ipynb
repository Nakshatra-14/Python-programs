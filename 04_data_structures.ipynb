{
 "cells": [
  {
   "cell_type": "markdown",
   "id": "58d9e35f",
   "metadata": {},
   "source": [
    "# Lists"
   ]
  },
  {
   "cell_type": "markdown",
   "id": "844aa03e",
   "metadata": {},
   "source": [
    "### Create a list of 10 numbers and print them."
   ]
  },
  {
   "cell_type": "code",
   "execution_count": 79,
   "id": "d3b7b73b",
   "metadata": {},
   "outputs": [
    {
     "name": "stdout",
     "output_type": "stream",
     "text": [
      "[80, 61, 99, 66, 7, 45, 79, 14, 7, 45]\n"
     ]
    }
   ],
   "source": [
    "lst = [80, 61, 99, 66, 7, 45, 79, 14, 7, 45]\n",
    "print(lst)"
   ]
  },
  {
   "cell_type": "markdown",
   "id": "8d31ef66",
   "metadata": {},
   "source": [
    "### Add a new element at the end and at a specific index."
   ]
  },
  {
   "cell_type": "code",
   "execution_count": 80,
   "id": "1e0e48e4",
   "metadata": {},
   "outputs": [
    {
     "name": "stdout",
     "output_type": "stream",
     "text": [
      "[80, 61, 99, 66, 7, 45, 79, 14, 7, 45, 100]\n",
      "[80, 61, 200, 99, 66, 7, 45, 79, 14, 7, 45, 100]\n"
     ]
    }
   ],
   "source": [
    "lst.append(100)\n",
    "print(lst)\n",
    "\n",
    "lst.insert(2, 200)\n",
    "print(lst)"
   ]
  },
  {
   "cell_type": "markdown",
   "id": "1d61d092",
   "metadata": {},
   "source": [
    "### Remove an element by value and by index."
   ]
  },
  {
   "cell_type": "code",
   "execution_count": 81,
   "id": "8de754ff",
   "metadata": {},
   "outputs": [
    {
     "name": "stdout",
     "output_type": "stream",
     "text": [
      "[80, 61, 200, 99, 66, 7, 45, 79, 14, 7, 45]\n",
      "[80, 61, 99, 66, 7, 45, 79, 14, 7, 45]\n"
     ]
    }
   ],
   "source": [
    "lst.remove(100)\n",
    "print(lst)\n",
    "\n",
    "lst.pop(2)\n",
    "print(lst)"
   ]
  },
  {
   "cell_type": "markdown",
   "id": "bedc06e4",
   "metadata": {},
   "source": [
    "### Reverse a list without using reverse()."
   ]
  },
  {
   "cell_type": "code",
   "execution_count": 82,
   "id": "e20397c6",
   "metadata": {},
   "outputs": [
    {
     "name": "stdout",
     "output_type": "stream",
     "text": [
      "[45, 7, 14, 79, 45, 7, 66, 99, 61, 80]\n"
     ]
    }
   ],
   "source": [
    "revlst = lst[:: -1]\n",
    "print(revlst)"
   ]
  },
  {
   "cell_type": "markdown",
   "id": "a23c2a04",
   "metadata": {},
   "source": [
    "### Find the sum, max, and min of a list."
   ]
  },
  {
   "cell_type": "code",
   "execution_count": 83,
   "id": "2b495925",
   "metadata": {},
   "outputs": [
    {
     "name": "stdout",
     "output_type": "stream",
     "text": [
      "503\n",
      "99\n",
      "7\n"
     ]
    }
   ],
   "source": [
    "print(sum(lst))\n",
    "print(max(lst))\n",
    "print(min(lst))"
   ]
  },
  {
   "cell_type": "markdown",
   "id": "fc47957c",
   "metadata": {},
   "source": [
    "### Sort a list in ascending and descending order."
   ]
  },
  {
   "cell_type": "code",
   "execution_count": 84,
   "id": "c04207e7",
   "metadata": {},
   "outputs": [
    {
     "name": "stdout",
     "output_type": "stream",
     "text": [
      "[7, 7, 14, 45, 45, 61, 66, 79, 80, 99]\n",
      "[99, 80, 79, 66, 61, 45, 45, 14, 7, 7]\n"
     ]
    }
   ],
   "source": [
    "lst.sort()\n",
    "print(lst)\n",
    "\n",
    "lst.sort(reverse=True)\n",
    "print(lst)"
   ]
  },
  {
   "cell_type": "markdown",
   "id": "8dec9080",
   "metadata": {},
   "source": [
    "### Merge two lists into one."
   ]
  },
  {
   "cell_type": "code",
   "execution_count": 85,
   "id": "3a5fde3d",
   "metadata": {},
   "outputs": [],
   "source": [
    "lst1 = [23, 43, 1]\n",
    "lst2 = [73, 50, 56]"
   ]
  },
  {
   "cell_type": "code",
   "execution_count": 86,
   "id": "a4eb3a46",
   "metadata": {},
   "outputs": [
    {
     "name": "stdout",
     "output_type": "stream",
     "text": [
      "[23, 43, 1, 73, 50, 56]\n"
     ]
    }
   ],
   "source": [
    "lst3 = lst1 + lst2\n",
    "print(lst3)"
   ]
  },
  {
   "cell_type": "markdown",
   "id": "cf8cf159",
   "metadata": {},
   "source": [
    "### Remove duplicates from a list."
   ]
  },
  {
   "cell_type": "code",
   "execution_count": 87,
   "id": "84cb736d",
   "metadata": {},
   "outputs": [],
   "source": [
    "lst = [80, 61, 99, 66, 7, 45, 79, 14, 7, 45]"
   ]
  },
  {
   "cell_type": "code",
   "execution_count": 88,
   "id": "55624c1d",
   "metadata": {},
   "outputs": [
    {
     "name": "stdout",
     "output_type": "stream",
     "text": [
      "[66, 99, 7, 45, 14, 79, 80, 61]\n"
     ]
    }
   ],
   "source": [
    "unique_lst = list(set(lst))\n",
    "print(unique_lst)"
   ]
  },
  {
   "cell_type": "markdown",
   "id": "74a19479",
   "metadata": {},
   "source": [
    "### Find the second largest element in a list."
   ]
  },
  {
   "cell_type": "code",
   "execution_count": 89,
   "id": "aed58e68",
   "metadata": {},
   "outputs": [
    {
     "name": "stdout",
     "output_type": "stream",
     "text": [
      "80\n"
     ]
    }
   ],
   "source": [
    "unique_lst.sort()\n",
    "print(unique_lst[-2])"
   ]
  },
  {
   "cell_type": "markdown",
   "id": "bf4705ab",
   "metadata": {},
   "source": [
    "### Print only even numbers from a list."
   ]
  },
  {
   "cell_type": "code",
   "execution_count": 90,
   "id": "1b2965bc",
   "metadata": {},
   "outputs": [
    {
     "name": "stdout",
     "output_type": "stream",
     "text": [
      "[14, 66, 80]\n"
     ]
    }
   ],
   "source": [
    "even_lst = []\n",
    "for i in unique_lst:\n",
    "    if i % 2 == 0:\n",
    "        even_lst.append(i)\n",
    "\n",
    "print(even_lst)"
   ]
  },
  {
   "cell_type": "markdown",
   "id": "97955f56",
   "metadata": {},
   "source": [
    "# Tuples"
   ]
  },
  {
   "cell_type": "markdown",
   "id": "316c7ef5",
   "metadata": {},
   "source": [
    "### Create a tuple and print its elements."
   ]
  },
  {
   "cell_type": "code",
   "execution_count": 91,
   "id": "fdf2a29a",
   "metadata": {},
   "outputs": [
    {
     "name": "stdout",
     "output_type": "stream",
     "text": [
      "(80, 61, 99, 66, 7, 45, 79, 14, 7, 45)\n"
     ]
    }
   ],
   "source": [
    "tup = (80, 61, 99, 66, 7, 45, 79, 14, 7, 45)\n",
    "print(tup)"
   ]
  },
  {
   "cell_type": "markdown",
   "id": "f17e1b33",
   "metadata": {},
   "source": [
    "### Try to modify an element in a tuple (observe the error)."
   ]
  },
  {
   "cell_type": "code",
   "execution_count": 92,
   "id": "0baaae88",
   "metadata": {},
   "outputs": [],
   "source": [
    "# tup[2] = 100"
   ]
  },
  {
   "cell_type": "markdown",
   "id": "df242884",
   "metadata": {},
   "source": [
    "### Unpack a tuple into variables."
   ]
  },
  {
   "cell_type": "code",
   "execution_count": 93,
   "id": "d6dc19e1",
   "metadata": {},
   "outputs": [
    {
     "name": "stdout",
     "output_type": "stream",
     "text": [
      "20, 50\n"
     ]
    }
   ],
   "source": [
    "point = (20, 50)\n",
    "x , y = point\n",
    "print(f\"{x}, {y}\")"
   ]
  },
  {
   "cell_type": "markdown",
   "id": "cc3922b0",
   "metadata": {},
   "source": [
    "### Concatenate two tuples."
   ]
  },
  {
   "cell_type": "code",
   "execution_count": 94,
   "id": "9d829924",
   "metadata": {},
   "outputs": [
    {
     "name": "stdout",
     "output_type": "stream",
     "text": [
      "(80, 61, 99, 66, 7, 45, 79, 14, 7, 45, 20, 50)\n"
     ]
    }
   ],
   "source": [
    "merg_tup = tup + point\n",
    "print(merg_tup)"
   ]
  },
  {
   "cell_type": "markdown",
   "id": "b39034f9",
   "metadata": {},
   "source": [
    "### Count the occurrence of an element in a tuple."
   ]
  },
  {
   "cell_type": "code",
   "execution_count": 95,
   "id": "6bdb91cc",
   "metadata": {},
   "outputs": [
    {
     "name": "stdout",
     "output_type": "stream",
     "text": [
      "80 : 1\n",
      "61 : 1\n",
      "99 : 1\n",
      "66 : 1\n",
      "7 : 2\n",
      "45 : 2\n",
      "79 : 1\n",
      "14 : 1\n",
      "7 : 2\n",
      "45 : 2\n"
     ]
    }
   ],
   "source": [
    "for i in tup:\n",
    "    print(f\"{i} : {tup.count(i)}\")"
   ]
  },
  {
   "cell_type": "markdown",
   "id": "2aae825e",
   "metadata": {},
   "source": [
    "# Sets"
   ]
  },
  {
   "cell_type": "markdown",
   "id": "71bf4828",
   "metadata": {},
   "source": [
    "### Create a set and add/remove elements."
   ]
  },
  {
   "cell_type": "code",
   "execution_count": 96,
   "id": "c6a12ff9",
   "metadata": {},
   "outputs": [
    {
     "name": "stdout",
     "output_type": "stream",
     "text": [
      "{10, 20}\n",
      "{'apple'}\n"
     ]
    }
   ],
   "source": [
    "mySet = set()\n",
    "mySet.add(10)\n",
    "mySet.add(20)\n",
    "print(mySet)\n",
    "\n",
    "fruit_set = set()\n",
    "fruit_set.add(\"apple\")\n",
    "print(fruit_set)\n",
    "\n",
    "#remove\n",
    "mySet.remove(10) #It will crash with an error if the element isn't found\n",
    "mySet.discard(20) #It will do nothing (no error) if the element isn't found\n",
    "\n",
    "fruit_set.remove(\"apple\")"
   ]
  },
  {
   "cell_type": "markdown",
   "id": "452309ac",
   "metadata": {},
   "source": [
    "### Perform union, intersection, difference between two sets."
   ]
  },
  {
   "cell_type": "code",
   "execution_count": 97,
   "id": "2a30f76a",
   "metadata": {},
   "outputs": [],
   "source": [
    "set_a = {1, 2, 3, 4}\n",
    "set_b = {3, 4, 5, 6}"
   ]
  },
  {
   "cell_type": "code",
   "execution_count": 98,
   "id": "15bb552b",
   "metadata": {},
   "outputs": [
    {
     "name": "stdout",
     "output_type": "stream",
     "text": [
      "Union: {1, 2, 3, 4, 5, 6}\n",
      "Intersection: {3, 4}\n",
      "Intersection: {3, 4}\n",
      "Difference: {1, 2}\n",
      "Symmetric differnce: {1, 2, 5, 6}\n"
     ]
    }
   ],
   "source": [
    "#union\n",
    "print(\"Union:\", set_a.union(set_b))\n",
    "#Intersection\n",
    "print(\"Intersection:\", set_a.intersection(set_b))\n",
    "# OR\n",
    "print(\"Intersection:\", set_a & set_b)\n",
    "# Difference\n",
    "print(\"Difference:\", set_a.difference(set_b))\n",
    "# Symmetric differnce\n",
    "print(\"Symmetric differnce:\", set_a.symmetric_difference(set_b))"
   ]
  },
  {
   "cell_type": "markdown",
   "id": "1640d9f7",
   "metadata": {},
   "source": [
    "### Check if a set is a subset or superset of another."
   ]
  },
  {
   "cell_type": "markdown",
   "id": "c9cd1555",
   "metadata": {},
   "source": [
    "#### A subset is a set where all of its elements are contained inside another, larger set.\n",
    "\n",
    "#### The superset is the larger set that contains all the elements of the smaller set."
   ]
  },
  {
   "cell_type": "code",
   "execution_count": 99,
   "id": "0f73c334",
   "metadata": {},
   "outputs": [],
   "source": [
    "all_numbers = {1, 2, 3, 4, 5, 6}\n",
    "prime_numbers = {2, 3, 5}\n",
    "odd_numbers = {1, 3, 5, 7}"
   ]
  },
  {
   "cell_type": "code",
   "execution_count": 100,
   "id": "36295aa4",
   "metadata": {},
   "outputs": [
    {
     "name": "stdout",
     "output_type": "stream",
     "text": [
      "True\n",
      "True\n"
     ]
    }
   ],
   "source": [
    "print(prime_numbers.issubset(all_numbers))\n",
    "print(all_numbers.issuperset(prime_numbers))"
   ]
  },
  {
   "cell_type": "markdown",
   "id": "8f4fefb1",
   "metadata": {},
   "source": [
    "### Remove duplicates from a list using a set."
   ]
  },
  {
   "cell_type": "code",
   "execution_count": 101,
   "id": "4f9e68a7",
   "metadata": {},
   "outputs": [
    {
     "name": "stdout",
     "output_type": "stream",
     "text": [
      "[10, 20, 50, 30]\n"
     ]
    }
   ],
   "source": [
    "duplicate_list = [10, 20, 30, 20, 10, 50]\n",
    "unique_list = list(set(duplicate_list))\n",
    "print(unique_list)"
   ]
  },
  {
   "cell_type": "markdown",
   "id": "de060134",
   "metadata": {},
   "source": [
    "### Find common elements in three sets."
   ]
  },
  {
   "cell_type": "code",
   "execution_count": 102,
   "id": "e84a5b15",
   "metadata": {},
   "outputs": [
    {
     "name": "stdout",
     "output_type": "stream",
     "text": [
      "{'c'}\n"
     ]
    }
   ],
   "source": [
    "s1 = {'a', 'b', 'c', 'd'}\n",
    "s2 = {'c', 'd', 'e', 'f'}\n",
    "s3 = {'c', 'f', 'g', 'h'}\n",
    "\n",
    "s = s1 & s2 & s3\n",
    "print(s)"
   ]
  },
  {
   "cell_type": "markdown",
   "id": "7ff3d436",
   "metadata": {},
   "source": [
    "# Dictionaries"
   ]
  },
  {
   "cell_type": "markdown",
   "id": "00ab1126",
   "metadata": {},
   "source": [
    "### Create a dictionary with 5 key-value pairs."
   ]
  },
  {
   "cell_type": "code",
   "execution_count": 103,
   "id": "57d184ab",
   "metadata": {},
   "outputs": [
    {
     "name": "stdout",
     "output_type": "stream",
     "text": [
      "{'a': 1, 'b': 2, 'c': 3, 'd': 4, 'e': 5}\n"
     ]
    }
   ],
   "source": [
    "myDict = {\n",
    "    'a' : 1,\n",
    "    'b' : 2,\n",
    "    'c' : 3,\n",
    "    'd' : 4,\n",
    "    'e' : 5\n",
    "}\n",
    "\n",
    "print(myDict)"
   ]
  },
  {
   "cell_type": "markdown",
   "id": "70a0a246",
   "metadata": {},
   "source": [
    "### Add a new key-value pair and update an existing key."
   ]
  },
  {
   "cell_type": "code",
   "execution_count": 104,
   "id": "93bca6d6",
   "metadata": {},
   "outputs": [
    {
     "name": "stdout",
     "output_type": "stream",
     "text": [
      "{'a': 1, 'b': 2, 'c': 3, 'd': 4, 'e': 5, 'f': 6}\n",
      "{'a': 10, 'b': 2, 'c': 3, 'd': 4, 'e': 5, 'f': 6}\n"
     ]
    }
   ],
   "source": [
    "myDict['f'] = 6\n",
    "print(myDict)\n",
    "myDict['a'] = 10\n",
    "print(myDict)"
   ]
  },
  {
   "cell_type": "markdown",
   "id": "4f29780a",
   "metadata": {},
   "source": [
    "### Remove a key-value pair."
   ]
  },
  {
   "cell_type": "code",
   "execution_count": 105,
   "id": "eec92cd2",
   "metadata": {},
   "outputs": [
    {
     "name": "stdout",
     "output_type": "stream",
     "text": [
      "{'a': 10, 'c': 3, 'd': 4, 'e': 5, 'f': 6}\n"
     ]
    }
   ],
   "source": [
    "del myDict['b']\n",
    "print(myDict)"
   ]
  },
  {
   "cell_type": "markdown",
   "id": "7923a701",
   "metadata": {},
   "source": [
    "### Iterate over keys, values, and items."
   ]
  },
  {
   "cell_type": "code",
   "execution_count": 106,
   "id": "19e4e1dc",
   "metadata": {},
   "outputs": [
    {
     "name": "stdout",
     "output_type": "stream",
     "text": [
      "a\n",
      "c\n",
      "d\n",
      "e\n",
      "f\n",
      "10\n",
      "3\n",
      "4\n",
      "5\n",
      "6\n",
      "a : 10\n",
      "c : 3\n",
      "d : 4\n",
      "e : 5\n",
      "f : 6\n"
     ]
    }
   ],
   "source": [
    "for key in myDict.keys():\n",
    "    print(key)\n",
    "\n",
    "for value in myDict.values():\n",
    "    print(value)\n",
    "\n",
    "for key, value in myDict.items():\n",
    "    print(key , \":\", value)"
   ]
  },
  {
   "cell_type": "markdown",
   "id": "dd243267",
   "metadata": {},
   "source": [
    "### Count the frequency of words in a sentence using a dictionary."
   ]
  },
  {
   "cell_type": "code",
   "execution_count": 107,
   "id": "290f2286",
   "metadata": {},
   "outputs": [
    {
     "data": {
      "text/plain": [
       "{'Python': 2,\n",
       " 'is': 3,\n",
       " 'great': 2,\n",
       " 'and': 1,\n",
       " 'Java': 1,\n",
       " 'also': 1,\n",
       " 'but': 1,\n",
       " 'powerful': 1}"
      ]
     },
     "execution_count": 107,
     "metadata": {},
     "output_type": "execute_result"
    }
   ],
   "source": [
    "str = \"Python is great and Java is also great but Python is powerful\"\n",
    "wordList = str.split(\" \")\n",
    "wordFreq = {}\n",
    "for word in wordList:\n",
    "    if word in wordFreq:\n",
    "        wordFreq[word] += 1\n",
    "    else:\n",
    "        wordFreq[word] = 1\n",
    "wordFreq"
   ]
  },
  {
   "cell_type": "markdown",
   "id": "57df7dcf",
   "metadata": {},
   "source": [
    "### Merge two dictionaries."
   ]
  },
  {
   "cell_type": "code",
   "execution_count": 108,
   "id": "8ed4fd2f",
   "metadata": {},
   "outputs": [
    {
     "name": "stdout",
     "output_type": "stream",
     "text": [
      "{'a': 10, 'c': 3, 'd': 4, 'e': 5, 'f': 6, 'Python': 2, 'is': 3, 'great': 2, 'and': 1, 'Java': 1, 'also': 1, 'but': 1, 'powerful': 1}\n"
     ]
    }
   ],
   "source": [
    "merge_dic = myDict | wordFreq\n",
    "print(merge_dic)"
   ]
  },
  {
   "cell_type": "markdown",
   "id": "0331bebe",
   "metadata": {},
   "source": [
    "### Find the key with the maximum value."
   ]
  },
  {
   "cell_type": "code",
   "execution_count": 109,
   "id": "72b78209",
   "metadata": {},
   "outputs": [
    {
     "name": "stdout",
     "output_type": "stream",
     "text": [
      "powerful\n"
     ]
    }
   ],
   "source": [
    "print(max(merge_dic))"
   ]
  },
  {
   "cell_type": "markdown",
   "id": "38befd64",
   "metadata": {},
   "source": [
    "### Check if a key exists in a dictionary."
   ]
  },
  {
   "cell_type": "code",
   "execution_count": 110,
   "id": "67221df9",
   "metadata": {},
   "outputs": [
    {
     "name": "stdout",
     "output_type": "stream",
     "text": [
      "found\n"
     ]
    }
   ],
   "source": [
    "key = 'is'\n",
    "if key in merge_dic.keys():\n",
    "    print(\"found\")\n",
    "else:\n",
    "    print(\"not found\")"
   ]
  },
  {
   "cell_type": "code",
   "execution_count": 111,
   "id": "82c4881d",
   "metadata": {},
   "outputs": [
    {
     "data": {
      "text/plain": [
       "{'a': 2, 'b': 1}"
      ]
     },
     "execution_count": 111,
     "metadata": {},
     "output_type": "execute_result"
    }
   ],
   "source": [
    "d = {'a':1, 'b':2}\n",
    "d['a'], d['b'] = d['b'], d['a']\n",
    "d"
   ]
  },
  {
   "cell_type": "markdown",
   "id": "e4e9982f",
   "metadata": {},
   "source": [
    "### Swap keys and values in a dictionary."
   ]
  },
  {
   "cell_type": "code",
   "execution_count": 112,
   "id": "02c24055",
   "metadata": {},
   "outputs": [
    {
     "name": "stdout",
     "output_type": "stream",
     "text": [
      "{'a': 10, 'c': 3, 'd': 4, 'e': 5, 'f': 6}\n"
     ]
    },
    {
     "ename": "KeyError",
     "evalue": "'b'",
     "output_type": "error",
     "traceback": [
      "\u001b[31m---------------------------------------------------------------------------\u001b[39m",
      "\u001b[31mKeyError\u001b[39m                                  Traceback (most recent call last)",
      "\u001b[36mCell\u001b[39m\u001b[36m \u001b[39m\u001b[32mIn[112]\u001b[39m\u001b[32m, line 9\u001b[39m\n\u001b[32m      6\u001b[39m     \u001b[38;5;28;01mreturn\u001b[39;00m \u001b[38;5;28mdict\u001b[39m\n\u001b[32m      8\u001b[39m \u001b[38;5;28mprint\u001b[39m(myDict)\n\u001b[32m----> \u001b[39m\u001b[32m9\u001b[39m newDict = \u001b[43mswapvalues\u001b[49m\u001b[43m(\u001b[49m\u001b[43mmyDict\u001b[49m\u001b[43m,\u001b[49m\u001b[43m \u001b[49m\u001b[33;43m'\u001b[39;49m\u001b[33;43mb\u001b[39;49m\u001b[33;43m'\u001b[39;49m\u001b[43m,\u001b[49m\u001b[43m \u001b[49m\u001b[33;43m'\u001b[39;49m\u001b[33;43mc\u001b[39;49m\u001b[33;43m'\u001b[39;49m\u001b[43m)\u001b[49m\n\u001b[32m     10\u001b[39m \u001b[38;5;28mprint\u001b[39m(newDict)\n",
      "\u001b[36mCell\u001b[39m\u001b[36m \u001b[39m\u001b[32mIn[112]\u001b[39m\u001b[32m, line 5\u001b[39m, in \u001b[36mswapvalues\u001b[39m\u001b[34m(dict, swapIndex, swapWith)\u001b[39m\n\u001b[32m      1\u001b[39m \u001b[38;5;28;01mdef\u001b[39;00m\u001b[38;5;250m \u001b[39m\u001b[34mswapvalues\u001b[39m(\u001b[38;5;28mdict\u001b[39m, swapIndex, swapWith):\n\u001b[32m      2\u001b[39m     \u001b[38;5;66;03m# temp = dict[swapIndex]\u001b[39;00m\n\u001b[32m      3\u001b[39m     \u001b[38;5;66;03m# dict[swapIndex] = dict[swapWith]\u001b[39;00m\n\u001b[32m      4\u001b[39m     \u001b[38;5;66;03m# dict[swapWith] = temp\u001b[39;00m\n\u001b[32m----> \u001b[39m\u001b[32m5\u001b[39m     \u001b[38;5;28mdict\u001b[39m[swapIndex], \u001b[38;5;28mdict\u001b[39m[swapWith] = \u001b[38;5;28mdict\u001b[39m[swapWith], \u001b[38;5;28;43mdict\u001b[39;49m\u001b[43m[\u001b[49m\u001b[43mswapIndex\u001b[49m\u001b[43m]\u001b[49m \n\u001b[32m      6\u001b[39m     \u001b[38;5;28;01mreturn\u001b[39;00m \u001b[38;5;28mdict\u001b[39m\n",
      "\u001b[31mKeyError\u001b[39m: 'b'"
     ]
    }
   ],
   "source": [
    "def swapvalues(dict, swapIndex, swapWith):\n",
    "    # temp = dict[swapIndex]\n",
    "    # dict[swapIndex] = dict[swapWith]\n",
    "    # dict[swapWith] = temp\n",
    "    dict[swapIndex], dict[swapWith] = dict[swapWith], dict[swapIndex] \n",
    "    return dict\n",
    "\n",
    "print(myDict)\n",
    "newDict = swapvalues(myDict, 'b', 'c')\n",
    "print(newDict)\n"
   ]
  },
  {
   "cell_type": "markdown",
   "id": "3d1f825b",
   "metadata": {},
   "source": [
    "### Create a dictionary from two lists (keys & values)."
   ]
  },
  {
   "cell_type": "code",
   "execution_count": null,
   "id": "4d028140",
   "metadata": {},
   "outputs": [
    {
     "name": "stdout",
     "output_type": "stream",
     "text": [
      "[1, 2, 3, 4, 5]\n",
      "[4, 5, 6, 7, 8]\n"
     ]
    },
    {
     "data": {
      "text/plain": [
       "{1: 4, 2: 5, 3: 6, 4: 7, 5: 8}"
      ]
     },
     "execution_count": 2,
     "metadata": {},
     "output_type": "execute_result"
    }
   ],
   "source": [
    "list_a = [1, 2, 3, 4, 5]\n",
    "list_b = [4, 5, 6, 7, 8]\n",
    "print(list_a)\n",
    "print(list_b)\n",
    "listDic = {}\n",
    "for e in list_a:\n",
    "    listDic[e] = list_b[e-1]\n",
    "listDic"
   ]
  },
  {
   "cell_type": "markdown",
   "id": "bf230c51",
   "metadata": {},
   "source": [
    "# Problem Solving with Data Structures"
   ]
  },
  {
   "cell_type": "markdown",
   "id": "cdd7c79c",
   "metadata": {},
   "source": [
    "This question asks you to write a program that takes a list containing other lists (a \"list of lists\") and combines all the elements into a single, flat list. For example, given `[[1, 2], [3, 4], [5]]`, the result should be `[1, 2, 3, 4, 5]`."
   ]
  },
  {
   "cell_type": "code",
   "execution_count": null,
   "id": "369f8e67",
   "metadata": {},
   "outputs": [
    {
     "name": "stdout",
     "output_type": "stream",
     "text": [
      "[[1, 2], [3, 4], [5]]\n",
      "[1, 2, 3, 4, 5]\n"
     ]
    }
   ],
   "source": [
    "def inSingleList(lst):\n",
    "    single_List = []\n",
    "    i = 0\n",
    "    while(i < len(lst)):\n",
    "        for e in lst[i]:\n",
    "            single_List.append(e)\n",
    "        i += 1\n",
    "    return single_List\n",
    "\n",
    "lists = [[1, 2], [3, 4], [5]]\n",
    "print(lists)\n",
    "\n",
    "print(inSingleList(lists))"
   ]
  },
  {
   "cell_type": "markdown",
   "id": "43e12859",
   "metadata": {},
   "source": [
    "### Find all elements that appear more than once in a list."
   ]
  },
  {
   "cell_type": "code",
   "execution_count": null,
   "id": "43b4cac3",
   "metadata": {},
   "outputs": [
    {
     "data": {
      "text/plain": [
       "{1, 2, 3}"
      ]
     },
     "execution_count": 32,
     "metadata": {},
     "output_type": "execute_result"
    }
   ],
   "source": [
    "lst = [2, 3, 1, 2, 4, 2, 3, 1, 5, 8, 9]\n",
    "duplicates = set()\n",
    "for e in lst:\n",
    "    if lst.count(e) > 1:\n",
    "        duplicates.add(e)\n",
    "duplicates"
   ]
  },
  {
   "cell_type": "markdown",
   "id": "505c19be",
   "metadata": {},
   "source": [
    "### Given a list of numbers, create a dictionary with number as key and its square as value."
   ]
  },
  {
   "cell_type": "code",
   "execution_count": null,
   "id": "2286d9c0",
   "metadata": {},
   "outputs": [],
   "source": [
    "import math"
   ]
  },
  {
   "cell_type": "code",
   "execution_count": null,
   "id": "6561173e",
   "metadata": {},
   "outputs": [
    {
     "name": "stdout",
     "output_type": "stream",
     "text": [
      "{12: 3.4641016151377544, 25: 5.0, 37: 6.082762530298219, 48: 6.928203230275509, 59: 7.681145747868608, 63: 7.937253933193772, 74: 8.602325267042627, 85: 9.219544457292887, 96: 9.797958971132712, 100: 10.0}\n"
     ]
    }
   ],
   "source": [
    "\n",
    "myDict = {}\n",
    "lst = [12, 25, 37, 48, 59, 63, 74, 85, 96, 100]\n",
    "lst.sort()\n",
    "for e in lst:\n",
    "    myDict[e] = math.sqrt(e)\n",
    "print(myDict)"
   ]
  },
  {
   "cell_type": "markdown",
   "id": "dd7bff8a",
   "metadata": {},
   "source": [
    "### Find the common elements in two lists using sets."
   ]
  },
  {
   "cell_type": "markdown",
   "id": "7f5829d9",
   "metadata": {},
   "source": []
  },
  {
   "cell_type": "code",
   "execution_count": null,
   "id": "fb0344b2",
   "metadata": {},
   "outputs": [
    {
     "data": {
      "text/plain": [
       "{3, 4, 5}"
      ]
     },
     "execution_count": 35,
     "metadata": {},
     "output_type": "execute_result"
    }
   ],
   "source": [
    "lst1 = [1, 2, 3, 4, 5, 8, 9]\n",
    "lst2 = [3, 4, 5, 10, 11, 12]\n",
    "st = set(lst1).intersection(set(lst2))\n",
    "st"
   ]
  },
  {
   "cell_type": "markdown",
   "id": "c6f39b26",
   "metadata": {},
   "source": [
    "### Count the number of vowels in a string using a dictionary."
   ]
  },
  {
   "cell_type": "code",
   "execution_count": null,
   "id": "312ef988",
   "metadata": {},
   "outputs": [
    {
     "data": {
      "text/plain": [
       "{'o': 9, 'a': 13, 'e': 21, 'u': 7, 'i': 7}"
      ]
     },
     "execution_count": 44,
     "metadata": {},
     "output_type": "execute_result"
    }
   ],
   "source": [
    "sample_Str = \"Orange apple umbrella idea ocean eagle island unique open universe animal echo oval useful opera item energy awesome option avenue.\"\n",
    "vowel_List = ['a', 'e', 'i', 'o', 'u']\n",
    "vowel_Dict = {}\n",
    "sample_Str = sample_Str.lower()\n",
    "for e in sample_Str:\n",
    "    if e in vowel_List:\n",
    "        vowel_Dict[e] = vowel_Dict.get(e, 0) + 1\n",
    "vowel_Dict"
   ]
  },
  {
   "cell_type": "markdown",
   "id": "43c7a5b3",
   "metadata": {},
   "source": [
    "### "
   ]
  }
 ],
 "metadata": {
  "kernelspec": {
   "display_name": "Python 3",
   "language": "python",
   "name": "python3"
  },
  "language_info": {
   "codemirror_mode": {
    "name": "ipython",
    "version": 3
   },
   "file_extension": ".py",
   "mimetype": "text/x-python",
   "name": "python",
   "nbconvert_exporter": "python",
   "pygments_lexer": "ipython3",
   "version": "3.13.6"
  }
 },
 "nbformat": 4,
 "nbformat_minor": 5
}
