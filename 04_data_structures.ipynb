{
 "cells": [
  {
   "cell_type": "markdown",
   "id": "58d9e35f",
   "metadata": {},
   "source": [
    "# Lists"
   ]
  },
  {
   "cell_type": "markdown",
   "id": "844aa03e",
   "metadata": {},
   "source": [
    "### Create a list of 10 numbers and print them."
   ]
  },
  {
   "cell_type": "markdown",
   "id": "8d31ef66",
   "metadata": {},
   "source": [
    "### Add a new element at the end and at a specific index."
   ]
  },
  {
   "cell_type": "markdown",
   "id": "1d61d092",
   "metadata": {},
   "source": [
    "### Remove an element by value and by index."
   ]
  },
  {
   "cell_type": "markdown",
   "id": "bedc06e4",
   "metadata": {},
   "source": [
    "### Reverse a list without using reverse()."
   ]
  },
  {
   "cell_type": "markdown",
   "id": "a23c2a04",
   "metadata": {},
   "source": [
    "### Find the sum, max, and min of a list."
   ]
  },
  {
   "cell_type": "markdown",
   "id": "fc47957c",
   "metadata": {},
   "source": [
    "### Sort a list in ascending and descending order."
   ]
  },
  {
   "cell_type": "markdown",
   "id": "8dec9080",
   "metadata": {},
   "source": [
    "### Merge two lists into one."
   ]
  },
  {
   "cell_type": "markdown",
   "id": "cf8cf159",
   "metadata": {},
   "source": [
    "### Remove duplicates from a list."
   ]
  },
  {
   "cell_type": "markdown",
   "id": "74a19479",
   "metadata": {},
   "source": [
    "### Find the second largest element in a list."
   ]
  },
  {
   "cell_type": "markdown",
   "id": "bf4705ab",
   "metadata": {},
   "source": [
    "### Print only even numbers from a list."
   ]
  },
  {
   "cell_type": "markdown",
   "id": "97955f56",
   "metadata": {},
   "source": [
    "# Tuples"
   ]
  },
  {
   "cell_type": "markdown",
   "id": "316c7ef5",
   "metadata": {},
   "source": [
    "### Create a tuple and print its elements."
   ]
  },
  {
   "cell_type": "markdown",
   "id": "f17e1b33",
   "metadata": {},
   "source": [
    "### Try to modify an element in a tuple (observe the error)."
   ]
  },
  {
   "cell_type": "markdown",
   "id": "df242884",
   "metadata": {},
   "source": [
    "### Unpack a tuple into variables."
   ]
  },
  {
   "cell_type": "markdown",
   "id": "cc3922b0",
   "metadata": {},
   "source": [
    "### Concatenate two tuples."
   ]
  },
  {
   "cell_type": "markdown",
   "id": "b39034f9",
   "metadata": {},
   "source": [
    "### Count the occurrence of an element in a tuple."
   ]
  },
  {
   "cell_type": "markdown",
   "id": "2aae825e",
   "metadata": {},
   "source": [
    "# Sets"
   ]
  },
  {
   "cell_type": "markdown",
   "id": "71bf4828",
   "metadata": {},
   "source": [
    "### Create a set and add/remove elements."
   ]
  },
  {
   "cell_type": "markdown",
   "id": "452309ac",
   "metadata": {},
   "source": [
    "### Perform union, intersection, difference between two sets."
   ]
  },
  {
   "cell_type": "markdown",
   "id": "1640d9f7",
   "metadata": {},
   "source": [
    "### Check if a set is a subset or superset of another."
   ]
  },
  {
   "cell_type": "markdown",
   "id": "8f4fefb1",
   "metadata": {},
   "source": [
    "### Remove duplicates from a list using a set."
   ]
  },
  {
   "cell_type": "markdown",
   "id": "de060134",
   "metadata": {},
   "source": [
    "### Find common elements in three sets."
   ]
  },
  {
   "cell_type": "markdown",
   "id": "7ff3d436",
   "metadata": {},
   "source": [
    "# Dictionaries"
   ]
  },
  {
   "cell_type": "markdown",
   "id": "00ab1126",
   "metadata": {},
   "source": [
    "### Create a dictionary with 5 key-value pairs."
   ]
  },
  {
   "cell_type": "markdown",
   "id": "70a0a246",
   "metadata": {},
   "source": [
    "### Add a new key-value pair and update an existing key."
   ]
  },
  {
   "cell_type": "markdown",
   "id": "4f29780a",
   "metadata": {},
   "source": [
    "### Remove a key-value pair."
   ]
  },
  {
   "cell_type": "markdown",
   "id": "7923a701",
   "metadata": {},
   "source": [
    "### Iterate over keys, values, and items."
   ]
  },
  {
   "cell_type": "markdown",
   "id": "dd243267",
   "metadata": {},
   "source": [
    "### Count the frequency of words in a sentence using a dictionary."
   ]
  },
  {
   "cell_type": "markdown",
   "id": "57df7dcf",
   "metadata": {},
   "source": [
    "### Merge two dictionaries."
   ]
  },
  {
   "cell_type": "markdown",
   "id": "0331bebe",
   "metadata": {},
   "source": [
    "### Find the key with the maximum value."
   ]
  },
  {
   "cell_type": "markdown",
   "id": "38befd64",
   "metadata": {},
   "source": [
    "### Check if a key exists in a dictionary."
   ]
  },
  {
   "cell_type": "markdown",
   "id": "e4e9982f",
   "metadata": {},
   "source": [
    "### Swap keys and values in a dictionary."
   ]
  },
  {
   "cell_type": "markdown",
   "id": "3d1f825b",
   "metadata": {},
   "source": [
    "### Create a dictionary from two lists (keys & values)."
   ]
  },
  {
   "cell_type": "markdown",
   "id": "bf230c51",
   "metadata": {},
   "source": [
    "# Problem Solving with Data Structures"
   ]
  },
  {
   "cell_type": "markdown",
   "id": "cdd7c79c",
   "metadata": {},
   "source": [
    "### Write a program to flatten a list of lists."
   ]
  },
  {
   "cell_type": "markdown",
   "id": "43e12859",
   "metadata": {},
   "source": [
    "### Find all elements that appear more than once in a list."
   ]
  },
  {
   "cell_type": "markdown",
   "id": "505c19be",
   "metadata": {},
   "source": [
    "### Given a list of numbers, create a dictionary with number as key and its square as value."
   ]
  },
  {
   "cell_type": "markdown",
   "id": "dd7bff8a",
   "metadata": {},
   "source": [
    "### Find the common elements in two lists using sets."
   ]
  },
  {
   "cell_type": "markdown",
   "id": "c6f39b26",
   "metadata": {},
   "source": [
    "### Count the number of vowels in a string using a dictionary."
   ]
  },
  {
   "cell_type": "markdown",
   "id": "43c7a5b3",
   "metadata": {},
   "source": [
    "### "
   ]
  }
 ],
 "metadata": {
  "language_info": {
   "name": "python"
  }
 },
 "nbformat": 4,
 "nbformat_minor": 5
}
