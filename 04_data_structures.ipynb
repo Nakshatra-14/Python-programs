{
 "cells": [
  {
   "cell_type": "markdown",
   "id": "58d9e35f",
   "metadata": {},
   "source": [
    "# Lists"
   ]
  },
  {
   "cell_type": "markdown",
   "id": "844aa03e",
   "metadata": {},
   "source": [
    "### Create a list of 10 numbers and print them."
   ]
  },
  {
   "cell_type": "code",
   "execution_count": 1,
   "id": "d3b7b73b",
   "metadata": {},
   "outputs": [
    {
     "name": "stdout",
     "output_type": "stream",
     "text": [
      "[80, 61, 99, 66, 7, 45, 79, 14, 7, 45]\n"
     ]
    }
   ],
   "source": [
    "lst = [80, 61, 99, 66, 7, 45, 79, 14, 7, 45]\n",
    "print(lst)"
   ]
  },
  {
   "cell_type": "markdown",
   "id": "8d31ef66",
   "metadata": {},
   "source": [
    "### Add a new element at the end and at a specific index."
   ]
  },
  {
   "cell_type": "code",
   "execution_count": 2,
   "id": "1e0e48e4",
   "metadata": {},
   "outputs": [
    {
     "name": "stdout",
     "output_type": "stream",
     "text": [
      "[80, 61, 99, 66, 7, 45, 79, 14, 7, 45, 100]\n",
      "[80, 61, 200, 99, 66, 7, 45, 79, 14, 7, 45, 100]\n"
     ]
    }
   ],
   "source": [
    "lst.append(100)\n",
    "print(lst)\n",
    "\n",
    "lst.insert(2, 200)\n",
    "print(lst)"
   ]
  },
  {
   "cell_type": "markdown",
   "id": "1d61d092",
   "metadata": {},
   "source": [
    "### Remove an element by value and by index."
   ]
  },
  {
   "cell_type": "code",
   "execution_count": 3,
   "id": "8de754ff",
   "metadata": {},
   "outputs": [
    {
     "name": "stdout",
     "output_type": "stream",
     "text": [
      "[80, 61, 200, 99, 66, 7, 45, 79, 14, 7, 45]\n",
      "[80, 61, 99, 66, 7, 45, 79, 14, 7, 45]\n"
     ]
    }
   ],
   "source": [
    "lst.remove(100)\n",
    "print(lst)\n",
    "\n",
    "lst.pop(2)\n",
    "print(lst)"
   ]
  },
  {
   "cell_type": "markdown",
   "id": "bedc06e4",
   "metadata": {},
   "source": [
    "### Reverse a list without using reverse()."
   ]
  },
  {
   "cell_type": "code",
   "execution_count": 4,
   "id": "e20397c6",
   "metadata": {},
   "outputs": [
    {
     "name": "stdout",
     "output_type": "stream",
     "text": [
      "[45, 7, 14, 79, 45, 7, 66, 99, 61, 80]\n"
     ]
    }
   ],
   "source": [
    "revlst = lst[:: -1]\n",
    "print(revlst)"
   ]
  },
  {
   "cell_type": "markdown",
   "id": "a23c2a04",
   "metadata": {},
   "source": [
    "### Find the sum, max, and min of a list."
   ]
  },
  {
   "cell_type": "code",
   "execution_count": 5,
   "id": "2b495925",
   "metadata": {},
   "outputs": [
    {
     "name": "stdout",
     "output_type": "stream",
     "text": [
      "503\n",
      "99\n",
      "7\n"
     ]
    }
   ],
   "source": [
    "print(sum(lst))\n",
    "print(max(lst))\n",
    "print(min(lst))"
   ]
  },
  {
   "cell_type": "markdown",
   "id": "fc47957c",
   "metadata": {},
   "source": [
    "### Sort a list in ascending and descending order."
   ]
  },
  {
   "cell_type": "code",
   "execution_count": 6,
   "id": "c04207e7",
   "metadata": {},
   "outputs": [
    {
     "name": "stdout",
     "output_type": "stream",
     "text": [
      "[7, 7, 14, 45, 45, 61, 66, 79, 80, 99]\n",
      "[99, 80, 79, 66, 61, 45, 45, 14, 7, 7]\n"
     ]
    }
   ],
   "source": [
    "lst.sort()\n",
    "print(lst)\n",
    "\n",
    "lst.sort(reverse=True)\n",
    "print(lst)"
   ]
  },
  {
   "cell_type": "markdown",
   "id": "8dec9080",
   "metadata": {},
   "source": [
    "### Merge two lists into one."
   ]
  },
  {
   "cell_type": "code",
   "execution_count": 7,
   "id": "3a5fde3d",
   "metadata": {},
   "outputs": [],
   "source": [
    "lst1 = [23, 43, 1]\n",
    "lst2 = [73, 50, 56]"
   ]
  },
  {
   "cell_type": "code",
   "execution_count": 8,
   "id": "a4eb3a46",
   "metadata": {},
   "outputs": [
    {
     "name": "stdout",
     "output_type": "stream",
     "text": [
      "[23, 43, 1, 73, 50, 56]\n"
     ]
    }
   ],
   "source": [
    "lst3 = lst1 + lst2\n",
    "print(lst3)"
   ]
  },
  {
   "cell_type": "markdown",
   "id": "cf8cf159",
   "metadata": {},
   "source": [
    "### Remove duplicates from a list."
   ]
  },
  {
   "cell_type": "code",
   "execution_count": 9,
   "id": "84cb736d",
   "metadata": {},
   "outputs": [],
   "source": [
    "lst = [80, 61, 99, 66, 7, 45, 79, 14, 7, 45]"
   ]
  },
  {
   "cell_type": "code",
   "execution_count": 10,
   "id": "55624c1d",
   "metadata": {},
   "outputs": [
    {
     "name": "stdout",
     "output_type": "stream",
     "text": [
      "[66, 99, 7, 45, 14, 79, 80, 61]\n"
     ]
    }
   ],
   "source": [
    "unique_lst = list(set(lst))\n",
    "print(unique_lst)"
   ]
  },
  {
   "cell_type": "markdown",
   "id": "74a19479",
   "metadata": {},
   "source": [
    "### Find the second largest element in a list."
   ]
  },
  {
   "cell_type": "code",
   "execution_count": 11,
   "id": "aed58e68",
   "metadata": {},
   "outputs": [
    {
     "name": "stdout",
     "output_type": "stream",
     "text": [
      "80\n"
     ]
    }
   ],
   "source": [
    "unique_lst.sort()\n",
    "print(unique_lst[-2])"
   ]
  },
  {
   "cell_type": "markdown",
   "id": "bf4705ab",
   "metadata": {},
   "source": [
    "### Print only even numbers from a list."
   ]
  },
  {
   "cell_type": "code",
   "execution_count": 12,
   "id": "1b2965bc",
   "metadata": {},
   "outputs": [
    {
     "name": "stdout",
     "output_type": "stream",
     "text": [
      "[14, 66, 80]\n"
     ]
    }
   ],
   "source": [
    "even_lst = []\n",
    "for i in unique_lst:\n",
    "    if i % 2 == 0:\n",
    "        even_lst.append(i)\n",
    "\n",
    "print(even_lst)"
   ]
  },
  {
   "cell_type": "markdown",
   "id": "97955f56",
   "metadata": {},
   "source": [
    "# Tuples"
   ]
  },
  {
   "cell_type": "markdown",
   "id": "316c7ef5",
   "metadata": {},
   "source": [
    "### Create a tuple and print its elements."
   ]
  },
  {
   "cell_type": "code",
   "execution_count": 13,
   "id": "fdf2a29a",
   "metadata": {},
   "outputs": [
    {
     "name": "stdout",
     "output_type": "stream",
     "text": [
      "(80, 61, 99, 66, 7, 45, 79, 14, 7, 45)\n"
     ]
    }
   ],
   "source": [
    "tup = (80, 61, 99, 66, 7, 45, 79, 14, 7, 45)\n",
    "print(tup)"
   ]
  },
  {
   "cell_type": "markdown",
   "id": "f17e1b33",
   "metadata": {},
   "source": [
    "### Try to modify an element in a tuple (observe the error)."
   ]
  },
  {
   "cell_type": "code",
   "execution_count": 15,
   "id": "0baaae88",
   "metadata": {},
   "outputs": [
    {
     "ename": "TypeError",
     "evalue": "'tuple' object does not support item assignment",
     "output_type": "error",
     "traceback": [
      "\u001b[31m---------------------------------------------------------------------------\u001b[39m",
      "\u001b[31mTypeError\u001b[39m                                 Traceback (most recent call last)",
      "\u001b[36mCell\u001b[39m\u001b[36m \u001b[39m\u001b[32mIn[15]\u001b[39m\u001b[32m, line 1\u001b[39m\n\u001b[32m----> \u001b[39m\u001b[32m1\u001b[39m \u001b[43mtup\u001b[49m\u001b[43m[\u001b[49m\u001b[32;43m2\u001b[39;49m\u001b[43m]\u001b[49m = \u001b[32m100\u001b[39m\n",
      "\u001b[31mTypeError\u001b[39m: 'tuple' object does not support item assignment"
     ]
    }
   ],
   "source": [
    "tup[2] = 100"
   ]
  },
  {
   "cell_type": "markdown",
   "id": "df242884",
   "metadata": {},
   "source": [
    "### Unpack a tuple into variables."
   ]
  },
  {
   "cell_type": "code",
   "execution_count": 16,
   "id": "d6dc19e1",
   "metadata": {},
   "outputs": [
    {
     "name": "stdout",
     "output_type": "stream",
     "text": [
      "20, 50\n"
     ]
    }
   ],
   "source": [
    "point = (20, 50)\n",
    "x , y = point\n",
    "print(f\"{x}, {y}\")"
   ]
  },
  {
   "cell_type": "markdown",
   "id": "cc3922b0",
   "metadata": {},
   "source": [
    "### Concatenate two tuples."
   ]
  },
  {
   "cell_type": "code",
   "execution_count": null,
   "id": "9d829924",
   "metadata": {},
   "outputs": [
    {
     "name": "stdout",
     "output_type": "stream",
     "text": [
      "(80, 61, 99, 66, 7, 45, 79, 14, 7, 45, 20, 50)\n",
      "<class 'memoryview'>\n"
     ]
    }
   ],
   "source": [
    "merg_tup = tup + point\n",
    "print(merg_tup)"
   ]
  },
  {
   "cell_type": "markdown",
   "id": "b39034f9",
   "metadata": {},
   "source": [
    "### Count the occurrence of an element in a tuple."
   ]
  },
  {
   "cell_type": "code",
   "execution_count": 20,
   "id": "6bdb91cc",
   "metadata": {},
   "outputs": [
    {
     "name": "stdout",
     "output_type": "stream",
     "text": [
      "80 : 1\n",
      "61 : 1\n",
      "99 : 1\n",
      "66 : 1\n",
      "7 : 2\n",
      "45 : 2\n",
      "79 : 1\n",
      "14 : 1\n",
      "7 : 2\n",
      "45 : 2\n"
     ]
    }
   ],
   "source": [
    "for i in tup:\n",
    "    print(f\"{i} : {tup.count(i)}\")"
   ]
  },
  {
   "cell_type": "markdown",
   "id": "2aae825e",
   "metadata": {},
   "source": [
    "# Sets"
   ]
  },
  {
   "cell_type": "markdown",
   "id": "71bf4828",
   "metadata": {},
   "source": [
    "### Create a set and add/remove elements."
   ]
  },
  {
   "cell_type": "code",
   "execution_count": 27,
   "id": "c6a12ff9",
   "metadata": {},
   "outputs": [
    {
     "name": "stdout",
     "output_type": "stream",
     "text": [
      "{10, 20}\n",
      "{'apple'}\n"
     ]
    }
   ],
   "source": [
    "mySet = set()\n",
    "mySet.add(10)\n",
    "mySet.add(20)\n",
    "print(mySet)\n",
    "\n",
    "fruit_set = set()\n",
    "fruit_set.add(\"apple\")\n",
    "print(fruit_set)\n",
    "\n",
    "#remove\n",
    "mySet.remove(10) #It will crash with an error if the element isn't found\n",
    "mySet.discard(20) #It will do nothing (no error) if the element isn't found\n",
    "\n",
    "fruit_set.remove(\"apple\")"
   ]
  },
  {
   "cell_type": "markdown",
   "id": "452309ac",
   "metadata": {},
   "source": [
    "### Perform union, intersection, difference between two sets."
   ]
  },
  {
   "cell_type": "code",
   "execution_count": 28,
   "id": "2a30f76a",
   "metadata": {},
   "outputs": [],
   "source": [
    "set_a = {1, 2, 3, 4}\n",
    "set_b = {3, 4, 5, 6}"
   ]
  },
  {
   "cell_type": "code",
   "execution_count": 40,
   "id": "15bb552b",
   "metadata": {},
   "outputs": [
    {
     "name": "stdout",
     "output_type": "stream",
     "text": [
      "Union: {1, 2, 3, 4, 5, 6}\n",
      "Intersection: {3, 4}\n",
      "Intersection: {3, 4}\n",
      "Difference: {1, 2}\n",
      "Symmetric differnce: {1, 2, 5, 6}\n"
     ]
    }
   ],
   "source": [
    "#union\n",
    "print(\"Union:\", set_a.union(set_b))\n",
    "#Intersection\n",
    "print(\"Intersection:\", set_a.intersection(set_b))\n",
    "# OR\n",
    "print(\"Intersection:\", set_a & set_b)\n",
    "# Difference\n",
    "print(\"Difference:\", set_a.difference(set_b))\n",
    "# Symmetric differnce\n",
    "print(\"Symmetric differnce:\", set_a.symmetric_difference(set_b))"
   ]
  },
  {
   "cell_type": "markdown",
   "id": "1640d9f7",
   "metadata": {},
   "source": [
    "### Check if a set is a subset or superset of another."
   ]
  },
  {
   "cell_type": "markdown",
   "id": "c9cd1555",
   "metadata": {},
   "source": [
    "#### A subset is a set where all of its elements are contained inside another, larger set.\n",
    "\n",
    "#### The superset is the larger set that contains all the elements of the smaller set."
   ]
  },
  {
   "cell_type": "code",
   "execution_count": 41,
   "id": "0f73c334",
   "metadata": {},
   "outputs": [],
   "source": [
    "all_numbers = {1, 2, 3, 4, 5, 6}\n",
    "prime_numbers = {2, 3, 5}\n",
    "odd_numbers = {1, 3, 5, 7}"
   ]
  },
  {
   "cell_type": "code",
   "execution_count": 44,
   "id": "36295aa4",
   "metadata": {},
   "outputs": [
    {
     "name": "stdout",
     "output_type": "stream",
     "text": [
      "True\n",
      "True\n"
     ]
    }
   ],
   "source": [
    "print(prime_numbers.issubset(all_numbers))\n",
    "print(all_numbers.issuperset(prime_numbers))"
   ]
  },
  {
   "cell_type": "markdown",
   "id": "8f4fefb1",
   "metadata": {},
   "source": [
    "### Remove duplicates from a list using a set."
   ]
  },
  {
   "cell_type": "code",
   "execution_count": 46,
   "id": "4f9e68a7",
   "metadata": {},
   "outputs": [
    {
     "name": "stdout",
     "output_type": "stream",
     "text": [
      "[10, 20, 50, 30]\n"
     ]
    }
   ],
   "source": [
    "duplicate_list = [10, 20, 30, 20, 10, 50]\n",
    "unique_list = list(set(duplicate_list))\n",
    "print(unique_list)"
   ]
  },
  {
   "cell_type": "markdown",
   "id": "de060134",
   "metadata": {},
   "source": [
    "### Find common elements in three sets."
   ]
  },
  {
   "cell_type": "code",
   "execution_count": 47,
   "id": "e84a5b15",
   "metadata": {},
   "outputs": [
    {
     "name": "stdout",
     "output_type": "stream",
     "text": [
      "{'c'}\n"
     ]
    }
   ],
   "source": [
    "s1 = {'a', 'b', 'c', 'd'}\n",
    "s2 = {'c', 'd', 'e', 'f'}\n",
    "s3 = {'c', 'f', 'g', 'h'}\n",
    "\n",
    "s = s1 & s2 & s3\n",
    "print(s)"
   ]
  },
  {
   "cell_type": "markdown",
   "id": "7ff3d436",
   "metadata": {},
   "source": [
    "# Dictionaries"
   ]
  },
  {
   "cell_type": "markdown",
   "id": "00ab1126",
   "metadata": {},
   "source": [
    "### Create a dictionary with 5 key-value pairs."
   ]
  },
  {
   "cell_type": "code",
   "execution_count": 48,
   "id": "57d184ab",
   "metadata": {},
   "outputs": [
    {
     "name": "stdout",
     "output_type": "stream",
     "text": [
      "{'a': 1, 'b': 2, 'c': 3, 'd': 4, 'e': 5}\n"
     ]
    }
   ],
   "source": [
    "myDict = {\n",
    "    'a' : 1,\n",
    "    'b' : 2,\n",
    "    'c' : 3,\n",
    "    'd' : 4,\n",
    "    'e' : 5\n",
    "}\n",
    "\n",
    "print(myDict)"
   ]
  },
  {
   "cell_type": "markdown",
   "id": "70a0a246",
   "metadata": {},
   "source": [
    "### Add a new key-value pair and update an existing key."
   ]
  },
  {
   "cell_type": "code",
   "execution_count": 49,
   "id": "93bca6d6",
   "metadata": {},
   "outputs": [
    {
     "name": "stdout",
     "output_type": "stream",
     "text": [
      "{'a': 1, 'b': 2, 'c': 3, 'd': 4, 'e': 5, 'f': 6}\n",
      "{'a': 10, 'b': 2, 'c': 3, 'd': 4, 'e': 5, 'f': 6}\n"
     ]
    }
   ],
   "source": [
    "myDict['f'] = 6\n",
    "print(myDict)\n",
    "myDict['a'] = 10\n",
    "print(myDict)"
   ]
  },
  {
   "cell_type": "markdown",
   "id": "4f29780a",
   "metadata": {},
   "source": [
    "### Remove a key-value pair."
   ]
  },
  {
   "cell_type": "code",
   "execution_count": 50,
   "id": "eec92cd2",
   "metadata": {},
   "outputs": [
    {
     "name": "stdout",
     "output_type": "stream",
     "text": [
      "{'a': 10, 'c': 3, 'd': 4, 'e': 5, 'f': 6}\n"
     ]
    }
   ],
   "source": [
    "del myDict['b']\n",
    "print(myDict)"
   ]
  },
  {
   "cell_type": "markdown",
   "id": "7923a701",
   "metadata": {},
   "source": [
    "### Iterate over keys, values, and items."
   ]
  },
  {
   "cell_type": "markdown",
   "id": "dd243267",
   "metadata": {},
   "source": [
    "### Count the frequency of words in a sentence using a dictionary."
   ]
  },
  {
   "cell_type": "markdown",
   "id": "57df7dcf",
   "metadata": {},
   "source": [
    "### Merge two dictionaries."
   ]
  },
  {
   "cell_type": "markdown",
   "id": "0331bebe",
   "metadata": {},
   "source": [
    "### Find the key with the maximum value."
   ]
  },
  {
   "cell_type": "markdown",
   "id": "38befd64",
   "metadata": {},
   "source": [
    "### Check if a key exists in a dictionary."
   ]
  },
  {
   "cell_type": "markdown",
   "id": "e4e9982f",
   "metadata": {},
   "source": [
    "### Swap keys and values in a dictionary."
   ]
  },
  {
   "cell_type": "markdown",
   "id": "3d1f825b",
   "metadata": {},
   "source": [
    "### Create a dictionary from two lists (keys & values)."
   ]
  },
  {
   "cell_type": "markdown",
   "id": "bf230c51",
   "metadata": {},
   "source": [
    "# Problem Solving with Data Structures"
   ]
  },
  {
   "cell_type": "markdown",
   "id": "cdd7c79c",
   "metadata": {},
   "source": [
    "### Write a program to flatten a list of lists."
   ]
  },
  {
   "cell_type": "markdown",
   "id": "43e12859",
   "metadata": {},
   "source": [
    "### Find all elements that appear more than once in a list."
   ]
  },
  {
   "cell_type": "markdown",
   "id": "505c19be",
   "metadata": {},
   "source": [
    "### Given a list of numbers, create a dictionary with number as key and its square as value."
   ]
  },
  {
   "cell_type": "markdown",
   "id": "dd7bff8a",
   "metadata": {},
   "source": [
    "### Find the common elements in two lists using sets."
   ]
  },
  {
   "cell_type": "markdown",
   "id": "c6f39b26",
   "metadata": {},
   "source": [
    "### Count the number of vowels in a string using a dictionary."
   ]
  },
  {
   "cell_type": "markdown",
   "id": "43c7a5b3",
   "metadata": {},
   "source": [
    "### "
   ]
  }
 ],
 "metadata": {
  "kernelspec": {
   "display_name": "Python 3",
   "language": "python",
   "name": "python3"
  },
  "language_info": {
   "codemirror_mode": {
    "name": "ipython",
    "version": 3
   },
   "file_extension": ".py",
   "mimetype": "text/x-python",
   "name": "python",
   "nbconvert_exporter": "python",
   "pygments_lexer": "ipython3",
   "version": "3.13.6"
  }
 },
 "nbformat": 4,
 "nbformat_minor": 5
}
