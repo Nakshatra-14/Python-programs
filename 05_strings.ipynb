{
 "cells": [
  {
   "cell_type": "markdown",
   "id": "43ca1056",
   "metadata": {},
   "source": [
    "# Basics"
   ]
  },
  {
   "cell_type": "markdown",
   "id": "be498451",
   "metadata": {},
   "source": [
    "### Take a string as input and print its length."
   ]
  },
  {
   "cell_type": "markdown",
   "id": "61368265",
   "metadata": {},
   "source": [
    "### Convert a string to uppercase, lowercase, title case."
   ]
  },
  {
   "cell_type": "markdown",
   "id": "7dde5340",
   "metadata": {},
   "source": [
    "### Reverse a string without using slicing ([::-1])."
   ]
  },
  {
   "cell_type": "markdown",
   "id": "2ad29fa1",
   "metadata": {},
   "source": [
    "### Count how many times a character appears in a string."
   ]
  },
  {
   "cell_type": "markdown",
   "id": "fa0de475",
   "metadata": {},
   "source": [
    "### Check if a string is a palindrome."
   ]
  },
  {
   "cell_type": "markdown",
   "id": "56c16659",
   "metadata": {},
   "source": [
    "# String Operations"
   ]
  },
  {
   "cell_type": "markdown",
   "id": "09f17c61",
   "metadata": {},
   "source": [
    "### Concatenate two strings and repeat them 3 times."
   ]
  },
  {
   "cell_type": "markdown",
   "id": "124b1281",
   "metadata": {},
   "source": [
    "### Check if a substring exists inside a string."
   ]
  },
  {
   "cell_type": "markdown",
   "id": "27d2dcae",
   "metadata": {},
   "source": [
    "### Replace all spaces in a string with -."
   ]
  },
  {
   "cell_type": "markdown",
   "id": "e755ed81",
   "metadata": {},
   "source": [
    "### Find the first and last occurrence of a character in a string."
   ]
  },
  {
   "cell_type": "markdown",
   "id": "9ce5e57b",
   "metadata": {},
   "source": [
    "### Split a sentence into words and join them back with commas."
   ]
  },
  {
   "cell_type": "markdown",
   "id": "e6c4fb3c",
   "metadata": {},
   "source": [
    "# Problem Solving"
   ]
  },
  {
   "cell_type": "markdown",
   "id": "ceccc717",
   "metadata": {},
   "source": [
    "### Count the number of vowels and consonants in a string."
   ]
  },
  {
   "cell_type": "markdown",
   "id": "3076b788",
   "metadata": {},
   "source": [
    "### Count the number of words in a sentence."
   ]
  },
  {
   "cell_type": "markdown",
   "id": "9105ac4b",
   "metadata": {},
   "source": [
    "### Find the longest word in a sentence."
   ]
  },
  {
   "cell_type": "markdown",
   "id": "a47d757c",
   "metadata": {},
   "source": [
    "### Check if two strings are anagrams of each other."
   ]
  },
  {
   "cell_type": "markdown",
   "id": "cffd416d",
   "metadata": {},
   "source": [
    "### Remove all digits from a string."
   ]
  },
  {
   "cell_type": "markdown",
   "id": "bcaee874",
   "metadata": {},
   "source": [
    "# Advanced (Slicing & Regex)"
   ]
  },
  {
   "cell_type": "markdown",
   "id": "86305732",
   "metadata": {},
   "source": [
    "### Extract the first 5 and last 5 characters of a string."
   ]
  },
  {
   "cell_type": "markdown",
   "id": "b359649e",
   "metadata": {},
   "source": [
    "### Print every second character of a string."
   ]
  },
  {
   "cell_type": "markdown",
   "id": "c8b4d3e3",
   "metadata": {},
   "source": [
    "### Validate if a string is a valid email address using regex."
   ]
  },
  {
   "cell_type": "markdown",
   "id": "0f732b2e",
   "metadata": {},
   "source": [
    "### Extract all numbers from a string (e.g., \"abc123def45\" → [123, 45])."
   ]
  },
  {
   "cell_type": "markdown",
   "id": "740c68e7",
   "metadata": {},
   "source": [
    "### Replace multiple spaces in a sentence with a single space."
   ]
  },
  {
   "cell_type": "markdown",
   "id": "92a4e160",
   "metadata": {},
   "source": [
    "# Mini Challenges"
   ]
  },
  {
   "cell_type": "markdown",
   "id": "b6ecf9c2",
   "metadata": {},
   "source": [
    "### Write a function to count the frequency of each character in a string."
   ]
  },
  {
   "cell_type": "markdown",
   "id": "7c7c3f67",
   "metadata": {},
   "source": [
    "### Encode a string by shifting each character by 2 (Caesar Cipher)."
   ]
  },
  {
   "cell_type": "markdown",
   "id": "0828188e",
   "metadata": {},
   "source": [
    "### Find all unique words in a sentence."
   ]
  },
  {
   "cell_type": "markdown",
   "id": "dcc42ba8",
   "metadata": {},
   "source": [
    "### Remove all punctuation from a sentence."
   ]
  },
  {
   "cell_type": "markdown",
   "id": "6279fd7d",
   "metadata": {},
   "source": [
    "### Given a paragraph, find the most repeated word."
   ]
  }
 ],
 "metadata": {
  "kernelspec": {
   "display_name": "Python 3",
   "language": "python",
   "name": "python3"
  },
  "language_info": {
   "codemirror_mode": {
    "name": "ipython",
    "version": 3
   },
   "file_extension": ".py",
   "mimetype": "text/x-python",
   "name": "python",
   "nbconvert_exporter": "python",
   "pygments_lexer": "ipython3",
   "version": "3.13.6"
  }
 },
 "nbformat": 4,
 "nbformat_minor": 5
}
