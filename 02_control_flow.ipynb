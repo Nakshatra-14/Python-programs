{
 "cells": [
  {
   "cell_type": "markdown",
   "id": "f71dea4a",
   "metadata": {},
   "source": [
    "## If/Else"
   ]
  },
  {
   "cell_type": "markdown",
   "id": "9bc05af2",
   "metadata": {},
   "source": [
    "### 1. Write a program to check if a number is positive, negative, or zero."
   ]
  },
  {
   "cell_type": "code",
   "execution_count": 1,
   "id": "84e7a32b",
   "metadata": {},
   "outputs": [
    {
     "name": "stdout",
     "output_type": "stream",
     "text": [
      "positive\n",
      "negative\n",
      "zero\n"
     ]
    }
   ],
   "source": [
    "def checkNum(n):\n",
    "    if n == 0:\n",
    "        print(\"zero\")\n",
    "    elif n < 0:\n",
    "        print(\"negative\")\n",
    "    else:\n",
    "        print(\"positive\")\n",
    "\n",
    "n = 5\n",
    "checkNum(n)\n",
    "n = -2\n",
    "checkNum(n)\n",
    "n = 0\n",
    "checkNum(n)"
   ]
  },
  {
   "cell_type": "markdown",
   "id": "dd97e0ae",
   "metadata": {},
   "source": [
    "### 2. Take a year as input and check if it’s a leap year."
   ]
  },
  {
   "cell_type": "code",
   "execution_count": 8,
   "id": "d6a6808c",
   "metadata": {},
   "outputs": [],
   "source": [
    "def leapYearCheck(year):\n",
    "    if (year % 4 == 0 and year % 100 != 0) or (year % 400 == 0):\n",
    "        return f\"{year} is a leap year\"\n",
    "    else:\n",
    "        return f\"{year} is not a leap year\"\n"
   ]
  },
  {
   "cell_type": "code",
   "execution_count": 10,
   "id": "355e42e0",
   "metadata": {},
   "outputs": [
    {
     "name": "stdout",
     "output_type": "stream",
     "text": [
      "2024 is a leap year\n",
      "2000 is a leap year\n",
      "2025 is not a leap year\n"
     ]
    }
   ],
   "source": [
    "print(leapYearCheck(2024))\n",
    "print(leapYearCheck(2000))\n",
    "print(leapYearCheck(2025))"
   ]
  },
  {
   "cell_type": "markdown",
   "id": "24d97b7a",
   "metadata": {},
   "source": [
    "### 3. A student’s marks (0–100) are given. Print the grade based on:\n",
    "- 90+ = A, 80–89 = B, 70–79 = C, 60–69 = D, below 60 = F"
   ]
  },
  {
   "cell_type": "code",
   "execution_count": null,
   "id": "59743b05",
   "metadata": {},
   "outputs": [],
   "source": [
    "def giveGrade(n):\n",
    "    if 100 >= n >= 90:\n",
    "        return 'A'\n",
    "    elif 89 >= n >= 80:\n",
    "        return 'B'\n",
    "    elif 79 >= n >= 70:\n",
    "        return 'C'\n",
    "    elif 69 >= n >= 60:\n",
    "        return 'D'\n",
    "    elif n <= 60:\n",
    "        return 'F'"
   ]
  },
  {
   "cell_type": "code",
   "execution_count": 12,
   "id": "be588b59",
   "metadata": {},
   "outputs": [
    {
     "name": "stdout",
     "output_type": "stream",
     "text": [
      "D\n",
      "C\n",
      "A\n",
      "B\n"
     ]
    }
   ],
   "source": [
    "print(giveGrade(65))\n",
    "print(giveGrade(78))\n",
    "print(giveGrade(93))\n",
    "print(giveGrade(84))"
   ]
  },
  {
   "cell_type": "markdown",
   "id": "6110b2d9",
   "metadata": {},
   "source": [
    "### 4. Write a program to check if a character is a vowel."
   ]
  },
  {
   "cell_type": "code",
   "execution_count": 2,
   "id": "be9e5661",
   "metadata": {},
   "outputs": [
    {
     "name": "stdout",
     "output_type": "stream",
     "text": [
      "C is not a vowel\n",
      "E is a vowel\n",
      "O is a vowel\n",
      "W is not a vowel\n"
     ]
    }
   ],
   "source": [
    "def hasVowel(c):\n",
    "    c = c.upper()\n",
    "    if c in ['A', 'E', 'I', 'O', 'U']:\n",
    "        print(c + \" is a vowel\")\n",
    "    else:\n",
    "        print(c + \" is not a vowel\")\n",
    "n = 'C'\n",
    "hasVowel(n)\n",
    "n = 'E'\n",
    "hasVowel(n)\n",
    "n = 'o'\n",
    "hasVowel(n)\n",
    "n = 'w'\n",
    "hasVowel(n)"
   ]
  },
  {
   "cell_type": "markdown",
   "id": "0f420612",
   "metadata": {},
   "source": [
    "### 5. Take age as input → print if the person is Child (0–12), Teen (13–19), Adult (20–59), Senior (60+)."
   ]
  },
  {
   "cell_type": "code",
   "execution_count": null,
   "id": "c337c8e0",
   "metadata": {},
   "outputs": [],
   "source": []
  },
  {
   "cell_type": "markdown",
   "id": "ec8042ee",
   "metadata": {},
   "source": [
    "## Loops (for, while)"
   ]
  },
  {
   "cell_type": "markdown",
   "id": "d837d0f7",
   "metadata": {},
   "source": [
    "### 6. Print numbers from 1 to 100, but skip numbers divisible by 5."
   ]
  },
  {
   "cell_type": "markdown",
   "id": "0d4e6656",
   "metadata": {},
   "source": [
    "### 7. Calculate the factorial of a number using a for loop."
   ]
  },
  {
   "cell_type": "markdown",
   "id": "096e5038",
   "metadata": {},
   "source": [
    "### 8. Write a program to generate the Fibonacci sequence up to n terms."
   ]
  },
  {
   "cell_type": "markdown",
   "id": "6dfb9fdf",
   "metadata": {},
   "source": [
    "### 9. Reverse a number using a while loop."
   ]
  },
  {
   "cell_type": "markdown",
   "id": "6fac1d57",
   "metadata": {},
   "source": [
    "### 10. Write a program to count the number of digits in a given number."
   ]
  },
  {
   "cell_type": "markdown",
   "id": "90592be5",
   "metadata": {},
   "source": [
    "## Patterns (nested loops)"
   ]
  },
  {
   "cell_type": "markdown",
   "id": "c4e13ab7",
   "metadata": {},
   "source": [
    "### 11. Print a right-angled triangle pattern of * for n=5:\n",
    "```\n",
    "*\n",
    "**\n",
    "***\n",
    "****\n",
    "*****\n",
    "```"
   ]
  },
  {
   "cell_type": "markdown",
   "id": "b6146551",
   "metadata": {},
   "source": [
    "### 12. Print an inverted pyramid of numbers for n=5:\n",
    "```\n",
    "54321\n",
    "5432\n",
    "543\n",
    "54\n",
    "5\n",
    "```"
   ]
  },
  {
   "cell_type": "markdown",
   "id": "6623b22a",
   "metadata": {},
   "source": [
    "### 12. Print a diamond pattern of stars (n=5):\n",
    "```\n",
    "    *\n",
    "   ***\n",
    "  *****\n",
    "   ***\n",
    "    *\n",
    "```"
   ]
  },
  {
   "cell_type": "markdown",
   "id": "6929bc06",
   "metadata": {},
   "source": [
    "## Problem Solving"
   ]
  },
  {
   "cell_type": "markdown",
   "id": "07178d13",
   "metadata": {},
   "source": [
    "### 14. Find the sum of all even numbers between 1 and 100"
   ]
  },
  {
   "cell_type": "markdown",
   "id": "01c64bf5",
   "metadata": {},
   "source": [
    "### 15. Write a program to check if a number is prime."
   ]
  },
  {
   "cell_type": "markdown",
   "id": "77dff44d",
   "metadata": {},
   "source": [
    "### 16. Take a number as input and check if it’s a palindrome (same forward & backward)."
   ]
  },
  {
   "cell_type": "markdown",
   "id": "02be50cb",
   "metadata": {},
   "source": [
    "### 17. Print the multiplication table of any number (up to 10)."
   ]
  },
  {
   "cell_type": "markdown",
   "id": "02426b19",
   "metadata": {},
   "source": [
    "### 18. Generate the first n prime numbers."
   ]
  }
 ],
 "metadata": {
  "kernelspec": {
   "display_name": "Python 3",
   "language": "python",
   "name": "python3"
  },
  "language_info": {
   "codemirror_mode": {
    "name": "ipython",
    "version": 3
   },
   "file_extension": ".py",
   "mimetype": "text/x-python",
   "name": "python",
   "nbconvert_exporter": "python",
   "pygments_lexer": "ipython3",
   "version": "3.13.6"
  }
 },
 "nbformat": 4,
 "nbformat_minor": 5
}
