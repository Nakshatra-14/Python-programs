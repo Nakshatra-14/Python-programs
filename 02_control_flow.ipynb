{
 "cells": [
  {
   "cell_type": "markdown",
   "id": "f71dea4a",
   "metadata": {},
   "source": [
    "# If/Else"
   ]
  },
  {
   "cell_type": "markdown",
   "id": "9bc05af2",
   "metadata": {},
   "source": [
    "### 1. Write a program to check if a number is positive, negative, or zero."
   ]
  },
  {
   "cell_type": "code",
   "execution_count": 1,
   "id": "84e7a32b",
   "metadata": {},
   "outputs": [
    {
     "name": "stdout",
     "output_type": "stream",
     "text": [
      "positive\n",
      "negative\n",
      "zero\n"
     ]
    }
   ],
   "source": [
    "def checkNum(n):\n",
    "    if n == 0:\n",
    "        print(\"zero\")\n",
    "    elif n < 0:\n",
    "        print(\"negative\")\n",
    "    else:\n",
    "        print(\"positive\")\n",
    "\n",
    "n = 5\n",
    "checkNum(n)\n",
    "n = -2\n",
    "checkNum(n)\n",
    "n = 0\n",
    "checkNum(n)"
   ]
  },
  {
   "cell_type": "markdown",
   "id": "dd97e0ae",
   "metadata": {},
   "source": [
    "### 2. Take a year as input and check if it’s a leap year."
   ]
  },
  {
   "cell_type": "code",
   "execution_count": 8,
   "id": "d6a6808c",
   "metadata": {},
   "outputs": [],
   "source": [
    "def leapYearCheck(year):\n",
    "    if (year % 4 == 0 and year % 100 != 0) or (year % 400 == 0):\n",
    "        return f\"{year} is a leap year\"\n",
    "    else:\n",
    "        return f\"{year} is not a leap year\"\n"
   ]
  },
  {
   "cell_type": "code",
   "execution_count": 10,
   "id": "355e42e0",
   "metadata": {},
   "outputs": [
    {
     "name": "stdout",
     "output_type": "stream",
     "text": [
      "2024 is a leap year\n",
      "2000 is a leap year\n",
      "2025 is not a leap year\n"
     ]
    }
   ],
   "source": [
    "print(leapYearCheck(2024))\n",
    "print(leapYearCheck(2000))\n",
    "print(leapYearCheck(2025))"
   ]
  },
  {
   "cell_type": "markdown",
   "id": "24d97b7a",
   "metadata": {},
   "source": [
    "### 3. A student’s marks (0–100) are given. Print the grade based on:\n",
    "- 90+ = A, 80–89 = B, 70–79 = C, 60–69 = D, below 60 = F"
   ]
  },
  {
   "cell_type": "code",
   "execution_count": null,
   "id": "59743b05",
   "metadata": {},
   "outputs": [],
   "source": [
    "def giveGrade(n):\n",
    "    if 100 >= n >= 90:\n",
    "        return 'A'\n",
    "    elif 89 >= n >= 80:\n",
    "        return 'B'\n",
    "    elif 79 >= n >= 70:\n",
    "        return 'C'\n",
    "    elif 69 >= n >= 60:\n",
    "        return 'D'\n",
    "    elif n <= 60:\n",
    "        return 'F'"
   ]
  },
  {
   "cell_type": "code",
   "execution_count": 12,
   "id": "be588b59",
   "metadata": {},
   "outputs": [
    {
     "name": "stdout",
     "output_type": "stream",
     "text": [
      "D\n",
      "C\n",
      "A\n",
      "B\n"
     ]
    }
   ],
   "source": [
    "print(giveGrade(65))\n",
    "print(giveGrade(78))\n",
    "print(giveGrade(93))\n",
    "print(giveGrade(84))"
   ]
  },
  {
   "cell_type": "markdown",
   "id": "6110b2d9",
   "metadata": {},
   "source": [
    "### 4. Write a program to check if a character is a vowel."
   ]
  },
  {
   "cell_type": "code",
   "execution_count": 2,
   "id": "be9e5661",
   "metadata": {},
   "outputs": [
    {
     "name": "stdout",
     "output_type": "stream",
     "text": [
      "C is not a vowel\n",
      "E is a vowel\n",
      "O is a vowel\n",
      "W is not a vowel\n"
     ]
    }
   ],
   "source": [
    "def hasVowel(c):\n",
    "    c = c.upper()\n",
    "    if c in ['A', 'E', 'I', 'O', 'U']:\n",
    "        print(c + \" is a vowel\")\n",
    "    else:\n",
    "        print(c + \" is not a vowel\")\n",
    "n = 'C'\n",
    "hasVowel(n)\n",
    "n = 'E'\n",
    "hasVowel(n)\n",
    "n = 'o'\n",
    "hasVowel(n)\n",
    "n = 'w'\n",
    "hasVowel(n)"
   ]
  },
  {
   "cell_type": "markdown",
   "id": "0f420612",
   "metadata": {},
   "source": [
    "### 5. Take age as input → print if the person is Child (0–12), Teen (13–19), Adult (20–59), Senior (60+)."
   ]
  },
  {
   "cell_type": "code",
   "execution_count": 3,
   "id": "c337c8e0",
   "metadata": {},
   "outputs": [],
   "source": [
    "def checkPersonAge(n):\n",
    "    if 0 <= n <= 12:\n",
    "        print(\"Child\")\n",
    "    elif 13 <= n <= 19:\n",
    "        print(\"Teen\")\n",
    "    elif 20 <= n <= 59:\n",
    "        print(\"Adult\")\n",
    "    elif 60 <= n:\n",
    "        print(\"Senoir\")\n",
    "    else:\n",
    "        print(\"invalid input\")"
   ]
  },
  {
   "cell_type": "code",
   "execution_count": 5,
   "id": "17edc145",
   "metadata": {},
   "outputs": [
    {
     "name": "stdout",
     "output_type": "stream",
     "text": [
      "Child\n",
      "Adult\n",
      "Teen\n",
      "Senoir\n"
     ]
    }
   ],
   "source": [
    "age = 12\n",
    "checkPersonAge(age)\n",
    "age = 56\n",
    "checkPersonAge(age)\n",
    "age = 15\n",
    "checkPersonAge(age)\n",
    "age = 68\n",
    "checkPersonAge(age)"
   ]
  },
  {
   "cell_type": "markdown",
   "id": "ec8042ee",
   "metadata": {},
   "source": [
    "# Loops (for, while)"
   ]
  },
  {
   "cell_type": "markdown",
   "id": "d837d0f7",
   "metadata": {},
   "source": [
    "### 6. Print numbers from 1 to 100, but skip numbers divisible by 5."
   ]
  },
  {
   "cell_type": "code",
   "execution_count": 12,
   "id": "b2956024",
   "metadata": {},
   "outputs": [
    {
     "name": "stdout",
     "output_type": "stream",
     "text": [
      "5\n",
      "10\n",
      "15\n",
      "20\n",
      "25\n",
      "30\n",
      "35\n",
      "40\n",
      "45\n",
      "50\n",
      "55\n",
      "60\n",
      "65\n",
      "70\n",
      "75\n",
      "80\n",
      "85\n",
      "90\n",
      "95\n",
      "100\n"
     ]
    }
   ],
   "source": [
    "for n in range(1 ,100+1):\n",
    "    if n % 5:\n",
    "        continue\n",
    "    else:\n",
    "        print(n)"
   ]
  },
  {
   "cell_type": "markdown",
   "id": "0d4e6656",
   "metadata": {},
   "source": [
    "### 7. Calculate the factorial of a number using a for loop."
   ]
  },
  {
   "cell_type": "code",
   "execution_count": 22,
   "id": "c490df48",
   "metadata": {},
   "outputs": [],
   "source": [
    "def findFactorial(n):\n",
    "    if(n != 0):\n",
    "        f = 1\n",
    "        for e in range(1, n+1):\n",
    "            f = f * e\n",
    "        return f\n",
    "    else:\n",
    "        return 1"
   ]
  },
  {
   "cell_type": "code",
   "execution_count": 23,
   "id": "a39e2e9e",
   "metadata": {},
   "outputs": [
    {
     "name": "stdout",
     "output_type": "stream",
     "text": [
      "Factorial of 3 is 6\n",
      "Factorial of 5 is 120\n",
      "Factorial of 0 is 1\n"
     ]
    }
   ],
   "source": [
    "n = 3\n",
    "print(f\"Factorial of {n} is {findFactorial(n)}\")\n",
    "n = 5\n",
    "print(f\"Factorial of {n} is {findFactorial(n)}\")\n",
    "n = 0\n",
    "print(f\"Factorial of {n} is {findFactorial(n)}\")"
   ]
  },
  {
   "cell_type": "markdown",
   "id": "096e5038",
   "metadata": {},
   "source": [
    "### 8. Write a program to generate the Fibonacci sequence up to n terms."
   ]
  },
  {
   "cell_type": "code",
   "execution_count": 40,
   "id": "ada25bc1",
   "metadata": {},
   "outputs": [],
   "source": [
    "def fibonacci(n):\n",
    "    sequence = [0, 1]\n",
    "    for i in range(2, n):\n",
    "        sequence.append(sequence[-1] + sequence[-2])\n",
    "    return sequence"
   ]
  },
  {
   "cell_type": "code",
   "execution_count": 43,
   "id": "64910df1",
   "metadata": {},
   "outputs": [
    {
     "name": "stdout",
     "output_type": "stream",
     "text": [
      "[0, 1, 1, 2, 3, 5, 8, 13, 21, 34, 55, 89, 144, 233, 377, 610, 987, 1597, 2584, 4181]\n"
     ]
    }
   ],
   "source": [
    "fib_num = fibonacci(20)\n",
    "print(fib_num)"
   ]
  },
  {
   "cell_type": "markdown",
   "id": "6dfb9fdf",
   "metadata": {},
   "source": [
    "### 9. Reverse a number using a while loop."
   ]
  },
  {
   "cell_type": "code",
   "execution_count": 9,
   "id": "3551207b",
   "metadata": {},
   "outputs": [
    {
     "name": "stdout",
     "output_type": "stream",
     "text": [
      "2901\n"
     ]
    }
   ],
   "source": [
    "def reverseNum(n):\n",
    "    s = \"\"\n",
    "    while(n != 0):\n",
    "        f = n % 10\n",
    "        s = s + str(f)\n",
    "        n = n // 10\n",
    "    return int(s)\n",
    "\n",
    "print(reverseNum(1092))"
   ]
  },
  {
   "cell_type": "markdown",
   "id": "6fac1d57",
   "metadata": {},
   "source": [
    "### 10. Write a program to count the number of digits in a given number."
   ]
  },
  {
   "cell_type": "code",
   "execution_count": 10,
   "id": "3af38d74",
   "metadata": {},
   "outputs": [
    {
     "name": "stdout",
     "output_type": "stream",
     "text": [
      "6\n"
     ]
    }
   ],
   "source": [
    "n = 123434\n",
    "print(len(str(n)))"
   ]
  },
  {
   "cell_type": "markdown",
   "id": "90592be5",
   "metadata": {},
   "source": [
    "## Patterns (nested loops)"
   ]
  },
  {
   "cell_type": "markdown",
   "id": "c4e13ab7",
   "metadata": {},
   "source": [
    "### 11. Print a right-angled triangle pattern of * for n=5:\n",
    "```\n",
    "*\n",
    "**\n",
    "***\n",
    "****\n",
    "*****\n",
    "```"
   ]
  },
  {
   "cell_type": "code",
   "execution_count": 33,
   "id": "5c71730d",
   "metadata": {},
   "outputs": [
    {
     "name": "stdout",
     "output_type": "stream",
     "text": [
      "*\n",
      "**\n",
      "***\n",
      "****\n",
      "*****\n",
      "\n",
      "*****\n",
      "****\n",
      "***\n",
      "**\n",
      "*\n"
     ]
    }
   ],
   "source": [
    "for i in range(1, 5+1):\n",
    "    for j in range(i):\n",
    "        print('*', end=\"\")\n",
    "    print()\n",
    "\n",
    "print()\n",
    "\n",
    "for i in range(5, 0, -1):\n",
    "    for j in range(i, 0, -1):\n",
    "        print('*', end=\"\")\n",
    "    print()"
   ]
  },
  {
   "cell_type": "markdown",
   "id": "b6146551",
   "metadata": {},
   "source": [
    "### 12. Print an inverted pyramid of numbers for n=5:\n",
    "```\n",
    "54321\n",
    "5432\n",
    "543\n",
    "54\n",
    "5\n",
    "```"
   ]
  },
  {
   "cell_type": "code",
   "execution_count": 39,
   "id": "e9a492a8",
   "metadata": {},
   "outputs": [
    {
     "name": "stdout",
     "output_type": "stream",
     "text": [
      "54321\n",
      "5432\n",
      "543\n",
      "54\n",
      "5\n"
     ]
    }
   ],
   "source": [
    "for i in range(1, 6):\n",
    "    for j in range(5, i-1, -1):\n",
    "        print(j, end=\"\")\n",
    "    print()"
   ]
  },
  {
   "cell_type": "markdown",
   "id": "6623b22a",
   "metadata": {},
   "source": [
    "### 12. Print a diamond pattern of stars (n=5):\n",
    "```\n",
    "    *\n",
    "   ***\n",
    "  *****\n",
    "   ***\n",
    "    *\n",
    "```"
   ]
  },
  {
   "cell_type": "code",
   "execution_count": null,
   "id": "15c3d3af",
   "metadata": {},
   "outputs": [
    {
     "name": "stdout",
     "output_type": "stream",
     "text": [
      "  *\n",
      " ***\n",
      "*****\n",
      " ***\n",
      "  *\n"
     ]
    }
   ],
   "source": [
    "n = 3  \n",
    "# upper part (including middle row)\n",
    "for i in range(1, n + 1):\n",
    "    print(\" \" * (n - i) + \"*\" * (2 * i - 1))\n",
    "\n",
    "# lower part\n",
    "for i in range(n - 1, 0, -1):\n",
    "    print(\" \" * (n - i) + \"*\" * (2 * i - 1))\n"
   ]
  },
  {
   "cell_type": "markdown",
   "id": "6929bc06",
   "metadata": {},
   "source": [
    "## Problem Solving"
   ]
  },
  {
   "cell_type": "markdown",
   "id": "07178d13",
   "metadata": {},
   "source": [
    "### 14. Find the sum of all even numbers between 1 and 100"
   ]
  },
  {
   "cell_type": "code",
   "execution_count": 42,
   "id": "727a0a76",
   "metadata": {},
   "outputs": [
    {
     "name": "stdout",
     "output_type": "stream",
     "text": [
      "2550\n"
     ]
    }
   ],
   "source": [
    "sum = 0\n",
    "for n in range(100+1):\n",
    "    if n % 2 == 0:\n",
    "        sum += n\n",
    "print(sum)"
   ]
  },
  {
   "cell_type": "markdown",
   "id": "01c64bf5",
   "metadata": {},
   "source": [
    "### 15. Write a program to check if a number is prime."
   ]
  },
  {
   "cell_type": "code",
   "execution_count": 52,
   "id": "52192e32",
   "metadata": {},
   "outputs": [
    {
     "name": "stdout",
     "output_type": "stream",
     "text": [
      "True\n",
      "True\n",
      "False\n",
      "True\n"
     ]
    }
   ],
   "source": [
    "import math\n",
    "\n",
    "def isPrime(n):\n",
    "    if(n <= 1):\n",
    "        return False\n",
    "    \n",
    "    for i in range(2, int(math.sqrt(n))+1):\n",
    "        if(n % i == 0):\n",
    "            return False\n",
    "    return True\n",
    "\n",
    "print(isPrime(29))\n",
    "print(isPrime(2))\n",
    "print(isPrime(21))\n",
    "print(isPrime(17))"
   ]
  },
  {
   "cell_type": "markdown",
   "id": "77dff44d",
   "metadata": {},
   "source": [
    "### 16. Take a number as input and check if it’s a palindrome (same forward & backward)."
   ]
  },
  {
   "cell_type": "code",
   "execution_count": 64,
   "id": "fb1a45a6",
   "metadata": {},
   "outputs": [
    {
     "name": "stdout",
     "output_type": "stream",
     "text": [
      "True\n",
      "True\n",
      "True\n",
      "False\n"
     ]
    }
   ],
   "source": [
    "def checkPalindrome(s):\n",
    "    t = \"\"\n",
    "    s = s.lower()\n",
    "    for i in s:\n",
    "        t = i + t\n",
    "    if s == t:\n",
    "        return True\n",
    "    else:\n",
    "        return False\n",
    "\n",
    "print(checkPalindrome(\"civic\"))\n",
    "print(checkPalindrome(\"radar\"))\n",
    "print(checkPalindrome(\"Madam\"))\n",
    "print(checkPalindrome(\"Hello\"))"
   ]
  },
  {
   "cell_type": "markdown",
   "id": "02be50cb",
   "metadata": {},
   "source": [
    "### 17. Print the multiplication table of any number (up to 10)."
   ]
  },
  {
   "cell_type": "code",
   "execution_count": 65,
   "id": "3434844c",
   "metadata": {},
   "outputs": [
    {
     "name": "stdout",
     "output_type": "stream",
     "text": [
      "5 X 1 = 5\n",
      "5 X 2 = 10\n",
      "5 X 3 = 15\n",
      "5 X 4 = 20\n",
      "5 X 5 = 25\n",
      "5 X 6 = 30\n",
      "5 X 7 = 35\n",
      "5 X 8 = 40\n",
      "5 X 9 = 45\n",
      "5 X 10 = 50\n"
     ]
    }
   ],
   "source": [
    "n = 5\n",
    "for i in range(1, 11):\n",
    "    print(f\"{n} X {i} = {n*i}\")"
   ]
  },
  {
   "cell_type": "markdown",
   "id": "02426b19",
   "metadata": {},
   "source": [
    "### 18. Generate the first n prime numbers."
   ]
  },
  {
   "cell_type": "code",
   "execution_count": 68,
   "id": "0d1793b8",
   "metadata": {},
   "outputs": [
    {
     "name": "stdout",
     "output_type": "stream",
     "text": [
      "2\n",
      "3\n",
      "5\n",
      "7\n",
      "11\n",
      "13\n",
      "17\n",
      "19\n",
      "23\n",
      "29\n",
      "31\n",
      "37\n",
      "41\n",
      "43\n",
      "47\n",
      "53\n",
      "59\n",
      "61\n",
      "67\n",
      "71\n",
      "73\n",
      "79\n",
      "83\n",
      "89\n",
      "97\n"
     ]
    }
   ],
   "source": [
    "n = 100\n",
    "for i in range(n+1):\n",
    "    if isPrime(i):\n",
    "        print(i)"
   ]
  }
 ],
 "metadata": {
  "kernelspec": {
   "display_name": "Python 3",
   "language": "python",
   "name": "python3"
  },
  "language_info": {
   "codemirror_mode": {
    "name": "ipython",
    "version": 3
   },
   "file_extension": ".py",
   "mimetype": "text/x-python",
   "name": "python",
   "nbconvert_exporter": "python",
   "pygments_lexer": "ipython3",
   "version": "3.13.6"
  }
 },
 "nbformat": 4,
 "nbformat_minor": 5
}
