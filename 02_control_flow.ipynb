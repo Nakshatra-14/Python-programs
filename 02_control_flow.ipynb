{
 "cells": [
  {
   "cell_type": "markdown",
   "id": "f71dea4a",
   "metadata": {},
   "source": [
    "## If/Else"
   ]
  },
  {
   "cell_type": "markdown",
   "id": "9bc05af2",
   "metadata": {},
   "source": [
    "### 1. Write a program to check if a number is positive, negative, or zero."
   ]
  },
  {
   "cell_type": "markdown",
   "id": "dd97e0ae",
   "metadata": {},
   "source": [
    "### 2. Take a year as input and check if it’s a leap year."
   ]
  },
  {
   "cell_type": "markdown",
   "id": "24d97b7a",
   "metadata": {},
   "source": [
    "### 3. A student’s marks (0–100) are given. Print the grade based on:\n",
    "- 90+ = A, 80–89 = B, 70–79 = C, 60–69 = D, below 60 = F"
   ]
  },
  {
   "cell_type": "markdown",
   "id": "6110b2d9",
   "metadata": {},
   "source": [
    "### 4. Write a program to check if a character is a vowel or consonant."
   ]
  },
  {
   "cell_type": "markdown",
   "id": "0f420612",
   "metadata": {},
   "source": [
    "### 5. Take age as input → print if the person is Child (0–12), Teen (13–19), Adult (20–59), Senior (60+)."
   ]
  },
  {
   "cell_type": "markdown",
   "id": "ec8042ee",
   "metadata": {},
   "source": [
    "## Loops (for, while)"
   ]
  },
  {
   "cell_type": "markdown",
   "id": "d837d0f7",
   "metadata": {},
   "source": [
    "### 6. Print numbers from 1 to 100, but skip numbers divisible by 5."
   ]
  },
  {
   "cell_type": "markdown",
   "id": "0d4e6656",
   "metadata": {},
   "source": [
    "### 7. Calculate the factorial of a number using a for loop."
   ]
  },
  {
   "cell_type": "markdown",
   "id": "096e5038",
   "metadata": {},
   "source": [
    "### 8. Write a program to generate the Fibonacci sequence up to n terms."
   ]
  },
  {
   "cell_type": "markdown",
   "id": "6dfb9fdf",
   "metadata": {},
   "source": [
    "### 9. Reverse a number using a while loop."
   ]
  },
  {
   "cell_type": "markdown",
   "id": "6fac1d57",
   "metadata": {},
   "source": [
    "### 10. Write a program to count the number of digits in a given number."
   ]
  },
  {
   "cell_type": "markdown",
   "id": "90592be5",
   "metadata": {},
   "source": [
    "## Patterns (nested loops)"
   ]
  },
  {
   "cell_type": "markdown",
   "id": "c4e13ab7",
   "metadata": {},
   "source": [
    "### 11. Print a right-angled triangle pattern of * for n=5:\n",
    "```\n",
    "*\n",
    "**\n",
    "***\n",
    "****\n",
    "*****\n",
    "```"
   ]
  },
  {
   "cell_type": "markdown",
   "id": "b6146551",
   "metadata": {},
   "source": [
    "### 12. Print an inverted pyramid of numbers for n=5:\n",
    "```\n",
    "54321\n",
    "5432\n",
    "543\n",
    "54\n",
    "5\n",
    "```"
   ]
  },
  {
   "cell_type": "markdown",
   "id": "6623b22a",
   "metadata": {},
   "source": [
    "### 12. Print a diamond pattern of stars (n=5):\n",
    "```\n",
    "    *\n",
    "   ***\n",
    "  *****\n",
    "   ***\n",
    "    *\n",
    "```"
   ]
  },
  {
   "cell_type": "markdown",
   "id": "6929bc06",
   "metadata": {},
   "source": [
    "## Problem Solving"
   ]
  },
  {
   "cell_type": "markdown",
   "id": "07178d13",
   "metadata": {},
   "source": [
    "### 14. Find the sum of all even numbers between 1 and 100"
   ]
  },
  {
   "cell_type": "markdown",
   "id": "01c64bf5",
   "metadata": {},
   "source": [
    "### 15. Write a program to check if a number is prime."
   ]
  },
  {
   "cell_type": "markdown",
   "id": "77dff44d",
   "metadata": {},
   "source": [
    "### 16. Take a number as input and check if it’s a palindrome (same forward & backward)."
   ]
  },
  {
   "cell_type": "markdown",
   "id": "02be50cb",
   "metadata": {},
   "source": [
    "### 17. Print the multiplication table of any number (up to 10)."
   ]
  },
  {
   "cell_type": "markdown",
   "id": "02426b19",
   "metadata": {},
   "source": [
    "### 18. Generate the first n prime numbers."
   ]
  }
 ],
 "metadata": {
  "language_info": {
   "name": "python"
  }
 },
 "nbformat": 4,
 "nbformat_minor": 5
}
